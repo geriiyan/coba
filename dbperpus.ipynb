{
 "cells": [
  {
   "cell_type": "markdown",
   "id": "c530a0fb",
   "metadata": {},
   "source": [
    "## Library Perpus"
   ]
  },
  {
   "cell_type": "code",
   "execution_count": 85,
   "id": "b5b2278c",
   "metadata": {},
   "outputs": [],
   "source": [
    "buku1='gambar'\n",
    "buku2='tulis'\n",
    "buku3='novel'\n",
    "buku4='dongeng'\n",
    "buku5='majalah'\n",
    "durasi=5"
   ]
  },
  {
   "cell_type": "code",
   "execution_count": 86,
   "id": "d3012727",
   "metadata": {},
   "outputs": [
    {
     "data": {
      "text/plain": [
       "(str, str)"
      ]
     },
     "execution_count": 86,
     "metadata": {},
     "output_type": "execute_result"
    }
   ],
   "source": [
    "type(buku1), type(buku2)"
   ]
  },
  {
   "cell_type": "code",
   "execution_count": 87,
   "id": "80486301",
   "metadata": {},
   "outputs": [],
   "source": [
    "kodebuku1='A001'\n",
    "kodebuku2='A002'\n",
    "kodebuku3='A003'\n",
    "kodebuku4='A004'\n",
    "kodebuku5='A005'"
   ]
  },
  {
   "cell_type": "code",
   "execution_count": 88,
   "id": "d3857863",
   "metadata": {},
   "outputs": [],
   "source": [
    "nbuku1=nbuku2=nbuku3=nbuku4=nbuku5=100"
   ]
  },
  {
   "cell_type": "markdown",
   "id": "f5e5a2a5",
   "metadata": {},
   "source": [
    "# library 2"
   ]
  },
  {
   "cell_type": "code",
   "execution_count": 102,
   "id": "9d99d41c",
   "metadata": {},
   "outputs": [],
   "source": [
    "namabuku=['buku1','buku2','buku3','buku4','buku5']\n",
    "code=['kodebuku1','kodebuku2','kodebuku3','kodebuku4','kodebuku5']\n",
    "n_buku=['nbuku1','nbuku2','nbuku3','nbuku4','nbuku5']"
   ]
  },
  {
   "cell_type": "code",
   "execution_count": 103,
   "id": "016b7f4a",
   "metadata": {},
   "outputs": [
    {
     "data": {
      "text/plain": [
       "(list, list, list)"
      ]
     },
     "execution_count": 103,
     "metadata": {},
     "output_type": "execute_result"
    }
   ],
   "source": [
    "type(namabuku), type(kode), type(n_buku)"
   ]
  },
  {
   "cell_type": "code",
   "execution_count": 107,
   "id": "df16e27b",
   "metadata": {},
   "outputs": [
    {
     "data": {
      "text/plain": [
       "{'nama': ['buku1', 'buku2', 'buku3', 'buku4', 'buku5'],\n",
       " 'kode': ['kodebuku1', 'kodebuku2', 'kodebuku3', 'kodebuku4', 'kodebuku5'],\n",
       " 'ketersediaan': ['nbuku1', 'nbuku2', 'nbuku3', 'nbuku4', 'nbuku5']}"
      ]
     },
     "execution_count": 107,
     "metadata": {},
     "output_type": "execute_result"
    }
   ],
   "source": [
    "gudang"
   ]
  },
  {
   "cell_type": "code",
   "execution_count": 2,
   "id": "f6f7c5c8",
   "metadata": {},
   "outputs": [
    {
     "ename": "NameError",
     "evalue": "name 'gudang' is not defined",
     "output_type": "error",
     "traceback": [
      "\u001b[1;31m---------------------------------------------------------------------------\u001b[0m",
      "\u001b[1;31mNameError\u001b[0m                                 Traceback (most recent call last)",
      "\u001b[1;32m~\\AppData\\Local\\Temp\\ipykernel_15184\\150666855.py\u001b[0m in \u001b[0;36m<module>\u001b[1;34m\u001b[0m\n\u001b[1;32m----> 1\u001b[1;33m \u001b[0mprint\u001b[0m\u001b[1;33m(\u001b[0m\u001b[0mgudang\u001b[0m\u001b[1;33m)\u001b[0m\u001b[1;33m\u001b[0m\u001b[1;33m\u001b[0m\u001b[0m\n\u001b[0m",
      "\u001b[1;31mNameError\u001b[0m: name 'gudang' is not defined"
     ]
    }
   ],
   "source": [
    "print(gudang)"
   ]
  },
  {
   "cell_type": "code",
   "execution_count": null,
   "id": "5207a307",
   "metadata": {},
   "outputs": [],
   "source": []
  }
 ],
 "metadata": {
  "kernelspec": {
   "display_name": "Python 3 (ipykernel)",
   "language": "python",
   "name": "python3"
  },
  "language_info": {
   "codemirror_mode": {
    "name": "ipython",
    "version": 3
   },
   "file_extension": ".py",
   "mimetype": "text/x-python",
   "name": "python",
   "nbconvert_exporter": "python",
   "pygments_lexer": "ipython3",
   "version": "3.9.13"
  }
 },
 "nbformat": 4,
 "nbformat_minor": 5
}
