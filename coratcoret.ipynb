{
 "cells": [
  {
   "cell_type": "code",
   "execution_count": 12,
   "id": "398d142c",
   "metadata": {},
   "outputs": [
    {
     "name": "stdout",
     "output_type": "stream",
     "text": [
      "input your score = 44\n",
      "Kamu Remedial dengan nilai 44\n"
     ]
    }
   ],
   "source": [
    "va1=int(input('input your score = '))\n",
    "if va1>=75:\n",
    "    print('Kamu Lulus dengan nilai', va1)"
   ]
  },
  {
   "cell_type": "code",
   "execution_count": 30,
   "id": "26dc0938",
   "metadata": {},
   "outputs": [
    {
     "name": "stdout",
     "output_type": "stream",
     "text": [
      "masukan username (4-8 panjang karakter)- joa\n",
      "Karakter username hanya sepanjang 3\n"
     ]
    }
   ],
   "source": [
    "va2=str(input('masukan username (4-8 panjang karakter)- '))\n",
    "if len(va2)<=4:\n",
    "    print('Karakter username hanya sepanjang', len(va2))\n",
    "elif len(va2)>=4 and len(va2)<=16:\n",
    "    print('Username sudah disimpan dengan username', va2)\n",
    "else:\n",
    "    print('Tidak sesuai dengan format karena username sepanjang ', len(va2))"
   ]
  },
  {
   "cell_type": "code",
   "execution_count": 79,
   "id": "77a7fea5",
   "metadata": {},
   "outputs": [
    {
     "name": "stdout",
     "output_type": "stream",
     "text": [
      "Masukan nilai ujian kamu = kaokaf1\n"
     ]
    },
    {
     "ename": "TypeError",
     "evalue": "'>' not supported between instances of 'str' and 'int'",
     "output_type": "error",
     "traceback": [
      "\u001b[1;31m---------------------------------------------------------------------------\u001b[0m",
      "\u001b[1;31mTypeError\u001b[0m                                 Traceback (most recent call last)",
      "\u001b[1;32m~\\AppData\\Local\\Temp\\ipykernel_17988\\4212246514.py\u001b[0m in \u001b[0;36m<module>\u001b[1;34m\u001b[0m\n\u001b[0;32m      1\u001b[0m \u001b[0muji\u001b[0m\u001b[1;33m=\u001b[0m\u001b[1;33m(\u001b[0m\u001b[0minput\u001b[0m\u001b[1;33m(\u001b[0m\u001b[1;34m'Masukan nilai ujian kamu = '\u001b[0m\u001b[1;33m)\u001b[0m\u001b[1;33m)\u001b[0m\u001b[1;33m\u001b[0m\u001b[1;33m\u001b[0m\u001b[0m\n\u001b[1;32m----> 2\u001b[1;33m \u001b[1;32mif\u001b[0m \u001b[0muji\u001b[0m\u001b[1;33m>\u001b[0m\u001b[1;36m90\u001b[0m\u001b[1;33m:\u001b[0m\u001b[1;33m\u001b[0m\u001b[1;33m\u001b[0m\u001b[0m\n\u001b[0m\u001b[0;32m      3\u001b[0m     \u001b[0mprint\u001b[0m\u001b[1;33m(\u001b[0m\u001b[1;34m'Boleh juga lu dapet nilai'\u001b[0m\u001b[1;33m,\u001b[0m \u001b[0muji\u001b[0m\u001b[1;33m)\u001b[0m\u001b[1;33m\u001b[0m\u001b[1;33m\u001b[0m\u001b[0m\n\u001b[0;32m      4\u001b[0m \u001b[1;32melif\u001b[0m \u001b[0muji\u001b[0m\u001b[1;33m>=\u001b[0m\u001b[1;36m80\u001b[0m \u001b[1;32mand\u001b[0m \u001b[0muji\u001b[0m\u001b[1;33m<\u001b[0m\u001b[1;36m90\u001b[0m\u001b[1;33m:\u001b[0m\u001b[1;33m\u001b[0m\u001b[1;33m\u001b[0m\u001b[0m\n\u001b[0;32m      5\u001b[0m     \u001b[0mprint\u001b[0m\u001b[1;33m(\u001b[0m\u001b[1;34m'Standard nilainya palingan juga turun semester depan'\u001b[0m\u001b[1;33m)\u001b[0m\u001b[1;33m\u001b[0m\u001b[1;33m\u001b[0m\u001b[0m\n",
      "\u001b[1;31mTypeError\u001b[0m: '>' not supported between instances of 'str' and 'int'"
     ]
    }
   ],
   "source": [
    "uji=(input('Masukan nilai ujian kamu = '))\n",
    "if uji>90:\n",
    "    print('Boleh juga lu dapet nilai', uji)\n",
    "elif uji>=80 and uji<90:\n",
    "    print('Standard nilainya palingan juga turun semester depan')\n",
    "elif uji>=40 and uji <=60:\n",
    "    print('Nilai kasihan padahal UTS dan UASnya Jelek')\n",
    "elif uji<40:\n",
    "    print('KAMU GOBLOK MASA NILAINYA = ',uji)\n",
    "else:\n",
    "    print('Format tidak sesuai')"
   ]
  },
  {
   "cell_type": "code",
   "execution_count": null,
   "id": "058aa129",
   "metadata": {},
   "outputs": [],
   "source": []
  },
  {
   "cell_type": "code",
   "execution_count": null,
   "id": "9f3c1398",
   "metadata": {},
   "outputs": [],
   "source": []
  }
 ],
 "metadata": {
  "kernelspec": {
   "display_name": "Python 3 (ipykernel)",
   "language": "python",
   "name": "python3"
  },
  "language_info": {
   "codemirror_mode": {
    "name": "ipython",
    "version": 3
   },
   "file_extension": ".py",
   "mimetype": "text/x-python",
   "name": "python",
   "nbconvert_exporter": "python",
   "pygments_lexer": "ipython3",
   "version": "3.9.13"
  }
 },
 "nbformat": 4,
 "nbformat_minor": 5
}
