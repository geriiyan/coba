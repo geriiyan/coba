{
 "cells": [
  {
   "cell_type": "markdown",
   "id": "c9f11ad0",
   "metadata": {},
   "source": [
    "## Gudang Film"
   ]
  },
  {
   "cell_type": "code",
   "execution_count": 57,
   "id": "2c5af1dd",
   "metadata": {},
   "outputs": [],
   "source": [
    "nama_film_1='Dilan'\n",
    "nama_film_2='NNS'\n",
    "nama_film_3='KKN'\n",
    "nama_film_4='Kingkong'\n",
    "nama_film_5='Ironman'\n",
    "durasi=7"
   ]
  },
  {
   "cell_type": "code",
   "execution_count": 58,
   "id": "0d51acfb",
   "metadata": {},
   "outputs": [],
   "source": [
    "kode_film_1='A01'\n",
    "kode_film_2='A02'\n",
    "kode_film_3='A03'\n",
    "kode_film_4='A04'\n",
    "kode_film_5='A05'"
   ]
  },
  {
   "cell_type": "code",
   "execution_count": 59,
   "id": "5aa1666b",
   "metadata": {},
   "outputs": [],
   "source": [
    "n_film_1=n_film_2=n_film_3=n_film_4=n_film_5=30"
   ]
  },
  {
   "cell_type": "code",
   "execution_count": 60,
   "id": "367ef512",
   "metadata": {},
   "outputs": [],
   "source": [
    "jenis_film_1='Love'\n",
    "jenis_film_2='Family'\n",
    "jenis_film_3='Horror'\n",
    "jenis_film_4='Fiktif'\n",
    "jenis_film_5='Scientist'"
   ]
  },
  {
   "cell_type": "code",
   "execution_count": 61,
   "id": "4e206602",
   "metadata": {},
   "outputs": [],
   "source": [
    "Nama_film=[nama_film_1,nama_film_2,nama_film_3,nama_film_4,nama_film_5]\n",
    "Kode_film=[kode_film_1,kode_film_2,kode_film_3,kode_film_4,kode_film_5]\n",
    "Jenis_film=[jenis_film_1,jenis_film_2,jenis_film_3,jenis_film_4,jenis_film_5]\n",
    "Jumlah_film=[n_film_1,n_film_2,n_film_3,n_film_4,n_film_5]"
   ]
  },
  {
   "cell_type": "code",
   "execution_count": 62,
   "id": "ee00b0ee",
   "metadata": {},
   "outputs": [],
   "source": [
    "gudang={'Nama':Nama_film,\n",
    "       'Kode':Kode_film,\n",
    "       'Jenis':Jenis_film,\n",
    "       'Jumlah':Jumlah_film}"
   ]
  },
  {
   "cell_type": "code",
   "execution_count": 63,
   "id": "f980c178",
   "metadata": {},
   "outputs": [
    {
     "name": "stdout",
     "output_type": "stream",
     "text": [
      "film dengan Batman A06 Scientist dengan 20\n"
     ]
    }
   ],
   "source": [
    "gudang['Nama'].append('Batman')\n",
    "gudang['Kode'].append('A06')\n",
    "gudang['Jenis'].append('Scientist')\n",
    "gudang['Jumlah'].append(20)\n",
    "print('film dengan {} {} {} dengan {}'.format(gudang['Nama'][-1],\n",
    "                                              gudang['Kode'][-1],\n",
    "                                              gudang['Jenis'][-1],\n",
    "                                              gudang['Jumlah'][-1]))"
   ]
  },
  {
   "cell_type": "code",
   "execution_count": 64,
   "id": "80287120",
   "metadata": {},
   "outputs": [],
   "source": [
    "def formatrupiah(uang):\n",
    "    y = str(uang)\n",
    "    if len(y) <= 3 :\n",
    "        return 'Rp ' + y     \n",
    "    else :\n",
    "        p = y[-3:]\n",
    "        q = y[:-3]\n",
    "        return   formatrupiah(q) + '.' + p\n",
    "        print ('Rp ' +  formatrupiah(q) + '.' + p) "
   ]
  },
  {
   "cell_type": "code",
   "execution_count": 65,
   "id": "8b72b392",
   "metadata": {},
   "outputs": [
    {
     "name": "stdout",
     "output_type": "stream",
     "text": [
      "{'Nama': ['Dilan', 'NNS', 'KKN', 'Kingkong', 'Ironman', 'Batman'], 'Kode': ['A01', 'A02', 'A03', 'A04', 'A05', 'A06'], 'Jenis': ['Love', 'Family', 'Horror', 'Fiktif', 'Scientist', 'Scientist'], 'Jumlah': [30, 30, 30, 30, 30, 20]}\n"
     ]
    }
   ],
   "source": [
    "print(gudang)"
   ]
  },
  {
   "cell_type": "code",
   "execution_count": 66,
   "id": "6ce5f1ef",
   "metadata": {},
   "outputs": [
    {
     "name": "stdout",
     "output_type": "stream",
     "text": [
      "Film Tersedia dalam gudang: \n",
      "Nama film \t Kode film \t Jenis Film \t Jumlah\n",
      "Judul Dilan\t KodeA01 \t Love   \t 30pcs\n",
      "Judul NNS\t KodeA02 \t Family   \t 30pcs\n",
      "Judul KKN\t KodeA03 \t Horror   \t 30pcs\n",
      "Judul Kingkong\t KodeA04 \t Fiktif   \t 30pcs\n",
      "Judul Ironman\t KodeA05 \t Scientist   \t 30pcs\n",
      "Judul Batman\t KodeA06 \t Scientist   \t 20pcs\n"
     ]
    }
   ],
   "source": [
    "print('Film Tersedia dalam gudang: ')\n",
    "print('Nama film \\t Kode film \\t Jenis Film \\t Jumlah')\n",
    "for i in range(len(gudang['Nama'])):\n",
    "    print('Judul {}\\t Kode{} \\t {}   \\t {}pcs'.format(gudang['Nama'][i],\n",
    "                                                gudang['Kode'][i],\n",
    "                                                gudang['Jenis'][i],\n",
    "                                                gudang['Jumlah'][i]))"
   ]
  },
  {
   "cell_type": "code",
   "execution_count": 197,
   "id": "484ac946",
   "metadata": {},
   "outputs": [
    {
     "ename": "NameError",
     "evalue": "name 'number' is not defined",
     "output_type": "error",
     "traceback": [
      "\u001b[1;31m---------------------------------------------------------------------------\u001b[0m",
      "\u001b[1;31mNameError\u001b[0m                                 Traceback (most recent call last)",
      "\u001b[1;32m~\\AppData\\Local\\Temp\\ipykernel_6652\\2726379954.py\u001b[0m in \u001b[0;36m<module>\u001b[1;34m\u001b[0m\n\u001b[1;32m----> 1\u001b[1;33m \u001b[1;32mif\u001b[0m \u001b[0mnumber\u001b[0m\u001b[1;33m%\u001b[0m\u001b[1;36m2\u001b[0m\u001b[1;33m==\u001b[0m\u001b[1;36m0\u001b[0m\u001b[1;33m:\u001b[0m\u001b[1;33m\u001b[0m\u001b[1;33m\u001b[0m\u001b[0m\n\u001b[0m\u001b[0;32m      2\u001b[0m     \u001b[0mprint\u001b[0m \u001b[1;33m(\u001b[0m\u001b[1;34m\"Even Numbers:\"\u001b[0m\u001b[1;33m,\u001b[0m\u001b[0mnumber\u001b[0m\u001b[1;33m)\u001b[0m\u001b[1;33m\u001b[0m\u001b[1;33m\u001b[0m\u001b[0m\n\u001b[0;32m      3\u001b[0m \u001b[1;32melse\u001b[0m\u001b[1;33m:\u001b[0m\u001b[1;33m\u001b[0m\u001b[1;33m\u001b[0m\u001b[0m\n\u001b[0;32m      4\u001b[0m     \u001b[0mprint\u001b[0m \u001b[1;33m(\u001b[0m\u001b[1;34m\"Odd Numbers:\"\u001b[0m\u001b[1;33m,\u001b[0m\u001b[0mnumber\u001b[0m\u001b[1;33m)\u001b[0m\u001b[1;33m\u001b[0m\u001b[1;33m\u001b[0m\u001b[0m\n\u001b[0;32m      5\u001b[0m \u001b[1;33m\u001b[0m\u001b[0m\n",
      "\u001b[1;31mNameError\u001b[0m: name 'number' is not defined"
     ]
    }
   ],
   "source": [
    "if number%2==0:\n",
    "    print (\"Even Numbers:\",number)\n",
    "else:\n",
    "    print (\"Odd Numbers:\",number)\n",
    "\n",
    "\n",
    "a = range(1,50)\n",
    "\n",
    "b = str(a)\n",
    "\n",
    "check(str(a))"
   ]
  },
  {
   "cell_type": "code",
   "execution_count": 190,
   "id": "197c1a30",
   "metadata": {},
   "outputs": [
    {
     "name": "stdout",
     "output_type": "stream",
     "text": [
      "Form Peminjaman Film Anda dibawah ini\t:\n"
     ]
    },
    {
     "ename": "KeyboardInterrupt",
     "evalue": "Interrupted by user",
     "output_type": "error",
     "traceback": [
      "\u001b[1;31m---------------------------------------------------------------------------\u001b[0m",
      "\u001b[1;31mKeyboardInterrupt\u001b[0m                         Traceback (most recent call last)",
      "\u001b[1;32m~\\AppData\\Local\\Temp\\ipykernel_6652\\1202457243.py\u001b[0m in \u001b[0;36m<module>\u001b[1;34m\u001b[0m\n\u001b[0;32m      1\u001b[0m \u001b[0mprint\u001b[0m\u001b[1;33m(\u001b[0m\u001b[1;34m'Form Peminjaman Film Anda dibawah ini\\t:'\u001b[0m\u001b[1;33m)\u001b[0m\u001b[1;33m\u001b[0m\u001b[1;33m\u001b[0m\u001b[0m\n\u001b[1;32m----> 2\u001b[1;33m \u001b[0mx\u001b[0m\u001b[1;33m=\u001b[0m\u001b[0mstr\u001b[0m\u001b[1;33m(\u001b[0m\u001b[0minput\u001b[0m\u001b[1;33m(\u001b[0m\u001b[1;34m'Masukan Nama Anda\\t: '\u001b[0m\u001b[1;33m)\u001b[0m\u001b[1;33m)\u001b[0m\u001b[1;33m\u001b[0m\u001b[1;33m\u001b[0m\u001b[0m\n\u001b[0m\u001b[0;32m      3\u001b[0m \u001b[0my\u001b[0m\u001b[1;33m=\u001b[0m\u001b[0mstr\u001b[0m\u001b[1;33m(\u001b[0m\u001b[0minput\u001b[0m\u001b[1;33m(\u001b[0m\u001b[1;34m'Masukan Kode film yang ingin dipinjam\\t: '\u001b[0m\u001b[1;33m)\u001b[0m\u001b[1;33m)\u001b[0m\u001b[1;33m\u001b[0m\u001b[1;33m\u001b[0m\u001b[0m\n\u001b[0;32m      4\u001b[0m \u001b[0mz\u001b[0m\u001b[1;33m=\u001b[0m\u001b[0mint\u001b[0m\u001b[1;33m(\u001b[0m\u001b[0minput\u001b[0m\u001b[1;33m(\u001b[0m\u001b[1;34m'Masukan banyak film\\t:  '\u001b[0m\u001b[1;33m)\u001b[0m\u001b[1;33m)\u001b[0m\u001b[1;33m\u001b[0m\u001b[1;33m\u001b[0m\u001b[0m\n\u001b[0;32m      5\u001b[0m \u001b[1;32mfor\u001b[0m \u001b[0my\u001b[0m \u001b[1;32min\u001b[0m \u001b[0mgudang\u001b[0m\u001b[1;33m[\u001b[0m\u001b[1;34m'Kode'\u001b[0m\u001b[1;33m]\u001b[0m\u001b[1;33m:\u001b[0m\u001b[1;33m\u001b[0m\u001b[1;33m\u001b[0m\u001b[0m\n",
      "\u001b[1;32m~\\anaconda3\\lib\\site-packages\\ipykernel\\kernelbase.py\u001b[0m in \u001b[0;36mraw_input\u001b[1;34m(self, prompt)\u001b[0m\n\u001b[0;32m   1175\u001b[0m                 \u001b[1;34m\"raw_input was called, but this frontend does not support input requests.\"\u001b[0m\u001b[1;33m\u001b[0m\u001b[1;33m\u001b[0m\u001b[0m\n\u001b[0;32m   1176\u001b[0m             )\n\u001b[1;32m-> 1177\u001b[1;33m         return self._input_request(\n\u001b[0m\u001b[0;32m   1178\u001b[0m             \u001b[0mstr\u001b[0m\u001b[1;33m(\u001b[0m\u001b[0mprompt\u001b[0m\u001b[1;33m)\u001b[0m\u001b[1;33m,\u001b[0m\u001b[1;33m\u001b[0m\u001b[1;33m\u001b[0m\u001b[0m\n\u001b[0;32m   1179\u001b[0m             \u001b[0mself\u001b[0m\u001b[1;33m.\u001b[0m\u001b[0m_parent_ident\u001b[0m\u001b[1;33m[\u001b[0m\u001b[1;34m\"shell\"\u001b[0m\u001b[1;33m]\u001b[0m\u001b[1;33m,\u001b[0m\u001b[1;33m\u001b[0m\u001b[1;33m\u001b[0m\u001b[0m\n",
      "\u001b[1;32m~\\anaconda3\\lib\\site-packages\\ipykernel\\kernelbase.py\u001b[0m in \u001b[0;36m_input_request\u001b[1;34m(self, prompt, ident, parent, password)\u001b[0m\n\u001b[0;32m   1217\u001b[0m             \u001b[1;32mexcept\u001b[0m \u001b[0mKeyboardInterrupt\u001b[0m\u001b[1;33m:\u001b[0m\u001b[1;33m\u001b[0m\u001b[1;33m\u001b[0m\u001b[0m\n\u001b[0;32m   1218\u001b[0m                 \u001b[1;31m# re-raise KeyboardInterrupt, to truncate traceback\u001b[0m\u001b[1;33m\u001b[0m\u001b[1;33m\u001b[0m\u001b[0m\n\u001b[1;32m-> 1219\u001b[1;33m                 \u001b[1;32mraise\u001b[0m \u001b[0mKeyboardInterrupt\u001b[0m\u001b[1;33m(\u001b[0m\u001b[1;34m\"Interrupted by user\"\u001b[0m\u001b[1;33m)\u001b[0m \u001b[1;32mfrom\u001b[0m \u001b[1;32mNone\u001b[0m\u001b[1;33m\u001b[0m\u001b[1;33m\u001b[0m\u001b[0m\n\u001b[0m\u001b[0;32m   1220\u001b[0m             \u001b[1;32mexcept\u001b[0m \u001b[0mException\u001b[0m\u001b[1;33m:\u001b[0m\u001b[1;33m\u001b[0m\u001b[1;33m\u001b[0m\u001b[0m\n\u001b[0;32m   1221\u001b[0m                 \u001b[0mself\u001b[0m\u001b[1;33m.\u001b[0m\u001b[0mlog\u001b[0m\u001b[1;33m.\u001b[0m\u001b[0mwarning\u001b[0m\u001b[1;33m(\u001b[0m\u001b[1;34m\"Invalid Message:\"\u001b[0m\u001b[1;33m,\u001b[0m \u001b[0mexc_info\u001b[0m\u001b[1;33m=\u001b[0m\u001b[1;32mTrue\u001b[0m\u001b[1;33m)\u001b[0m\u001b[1;33m\u001b[0m\u001b[1;33m\u001b[0m\u001b[0m\n",
      "\u001b[1;31mKeyboardInterrupt\u001b[0m: Interrupted by user"
     ]
    }
   ],
   "source": [
    "print('Form Peminjaman Film Anda dibawah ini\\t:')\n",
    "x=str(input('Masukan Nama Anda\\t: '))\n",
    "y=str(input('Masukan Kode film yang ingin dipinjam\\t: '))\n",
    "z=int(input('Masukan banyak film\\t:  '))\n",
    "for y in gudang['Kode']:\n",
    "    if y==y:\n",
    "        if var>1:\n",
    "            print('Terimakasih dengan total pinjam film {}\\nDengan Kode Film {}\\nDan batas maximal waktu {} hari, dari sekarang.'.format(z,\n",
    "                                                                                                                                         y,\n",
    "                                                                                                                                         durasi))\n",
    "            z-gudang['Jumlah']\n",
    "        elif z==1:\n",
    "            print('Film diperbolehkan untuk dipinjam sama {}\\nBerjudul {} dengan batas maximal waktu {} hari, dari sekarang.'.format(x, gud, durasi))\n",
    "            gudang['Jumlah']-=1\n",
    "        else:\n",
    "            print('Maaf Lebih dari Stock')"
   ]
  },
  {
   "cell_type": "code",
   "execution_count": 178,
   "id": "1f6f6165",
   "metadata": {},
   "outputs": [
    {
     "name": "stdout",
     "output_type": "stream",
     "text": [
      "0\n",
      "1\n",
      "2\n",
      "3\n",
      "4\n",
      "5\n"
     ]
    }
   ],
   "source": [
    "for i in range (len(gudang['Kode'])):\n",
    "    print(i)"
   ]
  },
  {
   "cell_type": "code",
   "execution_count": 168,
   "id": "749f9441",
   "metadata": {},
   "outputs": [
    {
     "name": "stdout",
     "output_type": "stream",
     "text": [
      "A01\n",
      "A02\n",
      "A03\n",
      "A04\n",
      "A05\n",
      "A06\n"
     ]
    }
   ],
   "source": [
    "for y in gudang['Kode']:\n",
    "    print (y)"
   ]
  },
  {
   "cell_type": "code",
   "execution_count": 180,
   "id": "a49752f8",
   "metadata": {},
   "outputs": [
    {
     "name": "stdout",
     "output_type": "stream",
     "text": [
      "{'Nama': ['Dilan', 'NNS', 'KKN', 'Kingkong', 'Ironman', 'Batman'], 'Kode': ['A01', 'A02', 'A03', 'A04', 'A05', 'A06'], 'Jenis': ['Love', 'Family', 'Horror', 'Fiktif', 'Scientist', 'Scientist'], 'Jumlah': [30, 30, 30, 30, 30, 20]}\n"
     ]
    }
   ],
   "source": [
    "print(gudang)"
   ]
  },
  {
   "cell_type": "markdown",
   "id": "e55db2f4",
   "metadata": {},
   "source": [
    "### "
   ]
  },
  {
   "cell_type": "code",
   "execution_count": 159,
   "id": "3722c4ed",
   "metadata": {},
   "outputs": [
    {
     "name": "stdout",
     "output_type": "stream",
     "text": [
      "A01\n",
      "A02\n",
      "A03\n",
      "A04\n",
      "A05\n",
      "A06\n"
     ]
    }
   ],
   "source": [
    "for i in (gudang['Kode']):\n",
    "    print(i)"
   ]
  },
  {
   "cell_type": "code",
   "execution_count": 26,
   "id": "db5e6c25",
   "metadata": {},
   "outputs": [
    {
     "name": "stdout",
     "output_type": "stream",
     "text": [
      "{'Nama': ['Dilan', 'NNS', 'KKN', 'Kingkong', 'Ironman', 'Batman'], 'Kode': ['A01', 'A02', 'A03', 'A04', 'A05', 'A06'], 'Jenis': ['Love', 'Family', 'Horror', 'Fiktif', 'Scientist', 'Scientist'], 'Jumlah': [30, 30, 30, 30, 30, 20]}\n"
     ]
    }
   ],
   "source": [
    "print(gudang)"
   ]
  },
  {
   "cell_type": "code",
   "execution_count": 201,
   "id": "ee3a3a79",
   "metadata": {},
   "outputs": [
    {
     "name": "stdout",
     "output_type": "stream",
     "text": [
      "Isi form Pengembalian Film Anda dibawah ini\t: \n",
      "Masukan Nama Anda\t: a\n",
      "Masukan Kode film yang ingin dikembalikan\t: A03\n",
      "Masukan jarak saat hari ini dari peminjaman\t: 4\n",
      "Masukan banyak film yang Anda ingin kembalikan\t: 2\n"
     ]
    }
   ],
   "source": [
    "print('Isi form Pengembalian Film Anda dibawah ini\\t: ')\n",
    "x=str(input('Masukan Nama Anda\\t: '))\n",
    "y=str(input('Masukan Kode film yang ingin dikembalikan\\t: '))\n",
    "d=int(input('Masukan jarak saat hari ini dari peminjaman\\t: '))\n",
    "z=int(input('Masukan banyak film yang Anda ingin kembalikan\\t: '))\n",
    "for i in gudang['Kode']:\n",
    "    if y==gudang['Kode']:\n",
    "        if d>durasi and z==gudang['Jumlah']<=1:\n",
    "            denda=(varhar-durasi)*z*25000\n",
    "            print('Terimakasih, {}.\\nAkan tetapi dikenakan denda sebesar {}\\nMohon Segera dibayarkan.'.format(x, formatrupiah(denda)))\n",
    "            gudang['Jumlah'][i]+=z\n",
    "            break\n",
    "        else:\n",
    "            print('Terimakasih atas ketepatan waktunya {} dalam peminjaman film.'.format(x))\n",
    "            gudang['Jumlah'][i]+=z\n",
    "            break\n",
    "    elif i==len(gudang['Kode'])-1:\n",
    "        print('Kode Film Tidak Tersedia')"
   ]
  },
  {
   "cell_type": "code",
   "execution_count": 205,
   "id": "e9fbc57d",
   "metadata": {},
   "outputs": [],
   "source": [
    "def pustaka(gudang=gudang):\n",
    "    print('Film Tersedia dalam gudang: ')\n",
    "    print('Nama film \\t Kode film \\t Jenis Film \\t Jumlah')\n",
    "    for i in range(len(gudang['Nama'])):\n",
    "        print('Judul {}\\t Kode{} \\t {}   \\t {}pcs'.format(gudang['Nama'][i],\n",
    "                                                    gudang['Kode'][i],\n",
    "                                                    gudang['Jenis'][i],\n",
    "                                                    gudang['Jumlah'][i]))"
   ]
  },
  {
   "cell_type": "code",
   "execution_count": 220,
   "id": "528da7a7",
   "metadata": {},
   "outputs": [
    {
     "ename": "IndentationError",
     "evalue": "expected an indented block (1539694421.py, line 1)",
     "output_type": "error",
     "traceback": [
      "\u001b[1;36m  File \u001b[1;32m\"C:\\Users\\queen\\AppData\\Local\\Temp\\ipykernel_6652\\1539694421.py\"\u001b[1;36m, line \u001b[1;32m1\u001b[0m\n\u001b[1;33m    def pinjam():\u001b[0m\n\u001b[1;37m                 ^\u001b[0m\n\u001b[1;31mIndentationError\u001b[0m\u001b[1;31m:\u001b[0m expected an indented block\n"
     ]
    }
   ],
   "source": []
  },
  {
   "cell_type": "code",
   "execution_count": 208,
   "id": "3bad3d42",
   "metadata": {},
   "outputs": [],
   "source": [
    "def balik(gudang=gudang):\n",
    "    print('Isi form Pengembalian Film Anda dibawah ini\\t: ')\n",
    "    varnam=str(input('Masukan Nama Anda\\t: '))\n",
    "    varfilm=str(input('Masukan Kode film yang ingin dikembalikan\\t: '))\n",
    "    varhar=int(input('Masukan jarak saat hari ini dari peminjaman\\t: '))\n",
    "    varban=int(input('Masukan banyak film yang Anda ingin kembalikan\\t: '))\n",
    "    for i in range gudang\n",
    "        if varfilm==gudang['Kode'][i] and gudang['Jumlah']:\n",
    "            if varhar>durasi and varban<=gudang['Jumlah'][i]:\n",
    "                denda=(varhar-durasi)*varban * 25000\n",
    "                print('Terimakasih, {}.\\nAkan tetapi Anda dikenakan denda sebesar {}\\nMohon Segera dibayarkan.'.format(varnam, formatrupiah(denda)))\n",
    "                gudang['Jumlah'][i]+=varban\n",
    "                break\n",
    "            else:\n",
    "                print('Terimakasih atas ketepatan waktunya {} dalam peminjaman film.'.format(varnam))\n",
    "                gudang['Jumlah'][i]+=varban\n",
    "                break\n",
    "        elif i==len(gudang['Kode'])-1:\n",
    "            print('Kode Film Tidak Tersedia')\n",
    "            break"
   ]
  },
  {
   "cell_type": "code",
   "execution_count": 222,
   "id": "befa0f2f",
   "metadata": {},
   "outputs": [
    {
     "name": "stdout",
     "output_type": "stream",
     "text": [
      "Form Peminjaman Film Anda dibawah ini\t:\n"
     ]
    },
    {
     "ename": "KeyboardInterrupt",
     "evalue": "Interrupted by user",
     "output_type": "error",
     "traceback": [
      "\u001b[1;31m---------------------------------------------------------------------------\u001b[0m",
      "\u001b[1;31mKeyboardInterrupt\u001b[0m                         Traceback (most recent call last)",
      "\u001b[1;32m~\\AppData\\Local\\Temp\\ipykernel_6652\\425867384.py\u001b[0m in \u001b[0;36m<module>\u001b[1;34m\u001b[0m\n\u001b[1;32m----> 1\u001b[1;33m \u001b[0mpinjam\u001b[0m\u001b[1;33m(\u001b[0m\u001b[1;33m)\u001b[0m\u001b[1;33m\u001b[0m\u001b[1;33m\u001b[0m\u001b[0m\n\u001b[0m",
      "\u001b[1;32m~\\AppData\\Local\\Temp\\ipykernel_6652\\1435901488.py\u001b[0m in \u001b[0;36mpinjam\u001b[1;34m(gudang)\u001b[0m\n\u001b[0;32m      1\u001b[0m \u001b[1;32mdef\u001b[0m \u001b[0mpinjam\u001b[0m\u001b[1;33m(\u001b[0m\u001b[0mgudang\u001b[0m\u001b[1;33m=\u001b[0m\u001b[0mgudang\u001b[0m\u001b[1;33m)\u001b[0m\u001b[1;33m:\u001b[0m\u001b[1;33m\u001b[0m\u001b[1;33m\u001b[0m\u001b[0m\n\u001b[0;32m      2\u001b[0m     \u001b[0mprint\u001b[0m\u001b[1;33m(\u001b[0m\u001b[1;34m'Form Peminjaman Film Anda dibawah ini\\t:'\u001b[0m\u001b[1;33m)\u001b[0m\u001b[1;33m\u001b[0m\u001b[1;33m\u001b[0m\u001b[0m\n\u001b[1;32m----> 3\u001b[1;33m     \u001b[0mvarnam\u001b[0m\u001b[1;33m=\u001b[0m\u001b[0mstr\u001b[0m\u001b[1;33m(\u001b[0m\u001b[0minput\u001b[0m\u001b[1;33m(\u001b[0m\u001b[1;34m'Masukan Nama Anda\\t: '\u001b[0m\u001b[1;33m)\u001b[0m\u001b[1;33m)\u001b[0m\u001b[1;33m\u001b[0m\u001b[1;33m\u001b[0m\u001b[0m\n\u001b[0m\u001b[0;32m      4\u001b[0m     \u001b[0mvarfilm\u001b[0m\u001b[1;33m=\u001b[0m\u001b[0mstr\u001b[0m\u001b[1;33m(\u001b[0m\u001b[0minput\u001b[0m\u001b[1;33m(\u001b[0m\u001b[1;34m'Masukan Kode film yang ingin dipinjam\\t: '\u001b[0m\u001b[1;33m)\u001b[0m\u001b[1;33m)\u001b[0m\u001b[1;33m\u001b[0m\u001b[1;33m\u001b[0m\u001b[0m\n\u001b[0;32m      5\u001b[0m     \u001b[0mvarban\u001b[0m\u001b[1;33m=\u001b[0m\u001b[0mint\u001b[0m\u001b[1;33m(\u001b[0m\u001b[0minput\u001b[0m\u001b[1;33m(\u001b[0m\u001b[1;34m'Masukan banyak film\\t: '\u001b[0m\u001b[1;33m)\u001b[0m\u001b[1;33m)\u001b[0m\u001b[1;33m\u001b[0m\u001b[1;33m\u001b[0m\u001b[0m\n",
      "\u001b[1;32m~\\anaconda3\\lib\\site-packages\\ipykernel\\kernelbase.py\u001b[0m in \u001b[0;36mraw_input\u001b[1;34m(self, prompt)\u001b[0m\n\u001b[0;32m   1175\u001b[0m                 \u001b[1;34m\"raw_input was called, but this frontend does not support input requests.\"\u001b[0m\u001b[1;33m\u001b[0m\u001b[1;33m\u001b[0m\u001b[0m\n\u001b[0;32m   1176\u001b[0m             )\n\u001b[1;32m-> 1177\u001b[1;33m         return self._input_request(\n\u001b[0m\u001b[0;32m   1178\u001b[0m             \u001b[0mstr\u001b[0m\u001b[1;33m(\u001b[0m\u001b[0mprompt\u001b[0m\u001b[1;33m)\u001b[0m\u001b[1;33m,\u001b[0m\u001b[1;33m\u001b[0m\u001b[1;33m\u001b[0m\u001b[0m\n\u001b[0;32m   1179\u001b[0m             \u001b[0mself\u001b[0m\u001b[1;33m.\u001b[0m\u001b[0m_parent_ident\u001b[0m\u001b[1;33m[\u001b[0m\u001b[1;34m\"shell\"\u001b[0m\u001b[1;33m]\u001b[0m\u001b[1;33m,\u001b[0m\u001b[1;33m\u001b[0m\u001b[1;33m\u001b[0m\u001b[0m\n",
      "\u001b[1;32m~\\anaconda3\\lib\\site-packages\\ipykernel\\kernelbase.py\u001b[0m in \u001b[0;36m_input_request\u001b[1;34m(self, prompt, ident, parent, password)\u001b[0m\n\u001b[0;32m   1217\u001b[0m             \u001b[1;32mexcept\u001b[0m \u001b[0mKeyboardInterrupt\u001b[0m\u001b[1;33m:\u001b[0m\u001b[1;33m\u001b[0m\u001b[1;33m\u001b[0m\u001b[0m\n\u001b[0;32m   1218\u001b[0m                 \u001b[1;31m# re-raise KeyboardInterrupt, to truncate traceback\u001b[0m\u001b[1;33m\u001b[0m\u001b[1;33m\u001b[0m\u001b[0m\n\u001b[1;32m-> 1219\u001b[1;33m                 \u001b[1;32mraise\u001b[0m \u001b[0mKeyboardInterrupt\u001b[0m\u001b[1;33m(\u001b[0m\u001b[1;34m\"Interrupted by user\"\u001b[0m\u001b[1;33m)\u001b[0m \u001b[1;32mfrom\u001b[0m \u001b[1;32mNone\u001b[0m\u001b[1;33m\u001b[0m\u001b[1;33m\u001b[0m\u001b[0m\n\u001b[0m\u001b[0;32m   1220\u001b[0m             \u001b[1;32mexcept\u001b[0m \u001b[0mException\u001b[0m\u001b[1;33m:\u001b[0m\u001b[1;33m\u001b[0m\u001b[1;33m\u001b[0m\u001b[0m\n\u001b[0;32m   1221\u001b[0m                 \u001b[0mself\u001b[0m\u001b[1;33m.\u001b[0m\u001b[0mlog\u001b[0m\u001b[1;33m.\u001b[0m\u001b[0mwarning\u001b[0m\u001b[1;33m(\u001b[0m\u001b[1;34m\"Invalid Message:\"\u001b[0m\u001b[1;33m,\u001b[0m \u001b[0mexc_info\u001b[0m\u001b[1;33m=\u001b[0m\u001b[1;32mTrue\u001b[0m\u001b[1;33m)\u001b[0m\u001b[1;33m\u001b[0m\u001b[1;33m\u001b[0m\u001b[0m\n",
      "\u001b[1;31mKeyboardInterrupt\u001b[0m: Interrupted by user"
     ]
    }
   ],
   "source": [
    "pinjam()"
   ]
  },
  {
   "cell_type": "code",
   "execution_count": 209,
   "id": "f13d892a",
   "metadata": {},
   "outputs": [
    {
     "name": "stdout",
     "output_type": "stream",
     "text": [
      "Isi form Pengembalian Film Anda dibawah ini\t: \n",
      "Masukan Nama Anda\t: a\n",
      "Masukan Kode film yang ingin dikembalikan\t: A04\n",
      "Masukan jarak saat hari ini dari peminjaman\t: 4\n"
     ]
    },
    {
     "ename": "KeyboardInterrupt",
     "evalue": "Interrupted by user",
     "output_type": "error",
     "traceback": [
      "\u001b[1;31m---------------------------------------------------------------------------\u001b[0m",
      "\u001b[1;31mKeyboardInterrupt\u001b[0m                         Traceback (most recent call last)",
      "\u001b[1;32m~\\AppData\\Local\\Temp\\ipykernel_6652\\4218672895.py\u001b[0m in \u001b[0;36m<module>\u001b[1;34m\u001b[0m\n\u001b[1;32m----> 1\u001b[1;33m \u001b[0mbalik\u001b[0m\u001b[1;33m(\u001b[0m\u001b[1;33m)\u001b[0m\u001b[1;33m\u001b[0m\u001b[1;33m\u001b[0m\u001b[0m\n\u001b[0m",
      "\u001b[1;32m~\\AppData\\Local\\Temp\\ipykernel_6652\\1880341305.py\u001b[0m in \u001b[0;36mbalik\u001b[1;34m(gudang)\u001b[0m\n\u001b[0;32m      4\u001b[0m     \u001b[0mvarfilm\u001b[0m\u001b[1;33m=\u001b[0m\u001b[0mstr\u001b[0m\u001b[1;33m(\u001b[0m\u001b[0minput\u001b[0m\u001b[1;33m(\u001b[0m\u001b[1;34m'Masukan Kode film yang ingin dikembalikan\\t: '\u001b[0m\u001b[1;33m)\u001b[0m\u001b[1;33m)\u001b[0m\u001b[1;33m\u001b[0m\u001b[1;33m\u001b[0m\u001b[0m\n\u001b[0;32m      5\u001b[0m     \u001b[0mvarhar\u001b[0m\u001b[1;33m=\u001b[0m\u001b[0mint\u001b[0m\u001b[1;33m(\u001b[0m\u001b[0minput\u001b[0m\u001b[1;33m(\u001b[0m\u001b[1;34m'Masukan jarak saat hari ini dari peminjaman\\t: '\u001b[0m\u001b[1;33m)\u001b[0m\u001b[1;33m)\u001b[0m\u001b[1;33m\u001b[0m\u001b[1;33m\u001b[0m\u001b[0m\n\u001b[1;32m----> 6\u001b[1;33m     \u001b[0mvarban\u001b[0m\u001b[1;33m=\u001b[0m\u001b[0mint\u001b[0m\u001b[1;33m(\u001b[0m\u001b[0minput\u001b[0m\u001b[1;33m(\u001b[0m\u001b[1;34m'Masukan banyak film yang Anda ingin kembalikan\\t: '\u001b[0m\u001b[1;33m)\u001b[0m\u001b[1;33m)\u001b[0m\u001b[1;33m\u001b[0m\u001b[1;33m\u001b[0m\u001b[0m\n\u001b[0m\u001b[0;32m      7\u001b[0m     \u001b[1;32mfor\u001b[0m \u001b[0mi\u001b[0m \u001b[1;32min\u001b[0m \u001b[0mgudang\u001b[0m\u001b[1;33m[\u001b[0m\u001b[1;34m'Kode'\u001b[0m\u001b[1;33m]\u001b[0m\u001b[1;33m:\u001b[0m\u001b[1;33m\u001b[0m\u001b[1;33m\u001b[0m\u001b[0m\n\u001b[0;32m      8\u001b[0m         \u001b[1;32mif\u001b[0m \u001b[0mvarfilm\u001b[0m\u001b[1;33m==\u001b[0m\u001b[0mgudang\u001b[0m\u001b[1;33m[\u001b[0m\u001b[1;34m'Kode'\u001b[0m\u001b[1;33m]\u001b[0m\u001b[1;33m[\u001b[0m\u001b[0mi\u001b[0m\u001b[1;33m]\u001b[0m \u001b[1;32mand\u001b[0m \u001b[0mgudang\u001b[0m\u001b[1;33m[\u001b[0m\u001b[1;34m'Jumlah'\u001b[0m\u001b[1;33m]\u001b[0m\u001b[1;33m:\u001b[0m\u001b[1;33m\u001b[0m\u001b[1;33m\u001b[0m\u001b[0m\n",
      "\u001b[1;32m~\\anaconda3\\lib\\site-packages\\ipykernel\\kernelbase.py\u001b[0m in \u001b[0;36mraw_input\u001b[1;34m(self, prompt)\u001b[0m\n\u001b[0;32m   1175\u001b[0m                 \u001b[1;34m\"raw_input was called, but this frontend does not support input requests.\"\u001b[0m\u001b[1;33m\u001b[0m\u001b[1;33m\u001b[0m\u001b[0m\n\u001b[0;32m   1176\u001b[0m             )\n\u001b[1;32m-> 1177\u001b[1;33m         return self._input_request(\n\u001b[0m\u001b[0;32m   1178\u001b[0m             \u001b[0mstr\u001b[0m\u001b[1;33m(\u001b[0m\u001b[0mprompt\u001b[0m\u001b[1;33m)\u001b[0m\u001b[1;33m,\u001b[0m\u001b[1;33m\u001b[0m\u001b[1;33m\u001b[0m\u001b[0m\n\u001b[0;32m   1179\u001b[0m             \u001b[0mself\u001b[0m\u001b[1;33m.\u001b[0m\u001b[0m_parent_ident\u001b[0m\u001b[1;33m[\u001b[0m\u001b[1;34m\"shell\"\u001b[0m\u001b[1;33m]\u001b[0m\u001b[1;33m,\u001b[0m\u001b[1;33m\u001b[0m\u001b[1;33m\u001b[0m\u001b[0m\n",
      "\u001b[1;32m~\\anaconda3\\lib\\site-packages\\ipykernel\\kernelbase.py\u001b[0m in \u001b[0;36m_input_request\u001b[1;34m(self, prompt, ident, parent, password)\u001b[0m\n\u001b[0;32m   1217\u001b[0m             \u001b[1;32mexcept\u001b[0m \u001b[0mKeyboardInterrupt\u001b[0m\u001b[1;33m:\u001b[0m\u001b[1;33m\u001b[0m\u001b[1;33m\u001b[0m\u001b[0m\n\u001b[0;32m   1218\u001b[0m                 \u001b[1;31m# re-raise KeyboardInterrupt, to truncate traceback\u001b[0m\u001b[1;33m\u001b[0m\u001b[1;33m\u001b[0m\u001b[0m\n\u001b[1;32m-> 1219\u001b[1;33m                 \u001b[1;32mraise\u001b[0m \u001b[0mKeyboardInterrupt\u001b[0m\u001b[1;33m(\u001b[0m\u001b[1;34m\"Interrupted by user\"\u001b[0m\u001b[1;33m)\u001b[0m \u001b[1;32mfrom\u001b[0m \u001b[1;32mNone\u001b[0m\u001b[1;33m\u001b[0m\u001b[1;33m\u001b[0m\u001b[0m\n\u001b[0m\u001b[0;32m   1220\u001b[0m             \u001b[1;32mexcept\u001b[0m \u001b[0mException\u001b[0m\u001b[1;33m:\u001b[0m\u001b[1;33m\u001b[0m\u001b[1;33m\u001b[0m\u001b[0m\n\u001b[0;32m   1221\u001b[0m                 \u001b[0mself\u001b[0m\u001b[1;33m.\u001b[0m\u001b[0mlog\u001b[0m\u001b[1;33m.\u001b[0m\u001b[0mwarning\u001b[0m\u001b[1;33m(\u001b[0m\u001b[1;34m\"Invalid Message:\"\u001b[0m\u001b[1;33m,\u001b[0m \u001b[0mexc_info\u001b[0m\u001b[1;33m=\u001b[0m\u001b[1;32mTrue\u001b[0m\u001b[1;33m)\u001b[0m\u001b[1;33m\u001b[0m\u001b[1;33m\u001b[0m\u001b[0m\n",
      "\u001b[1;31mKeyboardInterrupt\u001b[0m: Interrupted by user"
     ]
    }
   ],
   "source": [
    "balik()"
   ]
  },
  {
   "cell_type": "code",
   "execution_count": 204,
   "id": "6e2487d2",
   "metadata": {
    "scrolled": true
   },
   "outputs": [
    {
     "ename": "NameError",
     "evalue": "name 'pustaka' is not defined",
     "output_type": "error",
     "traceback": [
      "\u001b[1;31m---------------------------------------------------------------------------\u001b[0m",
      "\u001b[1;31mNameError\u001b[0m                                 Traceback (most recent call last)",
      "\u001b[1;32m~\\AppData\\Local\\Temp\\ipykernel_6652\\3491989886.py\u001b[0m in \u001b[0;36m<module>\u001b[1;34m\u001b[0m\n\u001b[1;32m----> 1\u001b[1;33m \u001b[0mpustaka\u001b[0m\u001b[1;33m(\u001b[0m\u001b[1;33m)\u001b[0m\u001b[1;33m\u001b[0m\u001b[1;33m\u001b[0m\u001b[0m\n\u001b[0m",
      "\u001b[1;31mNameError\u001b[0m: name 'pustaka' is not defined"
     ]
    }
   ],
   "source": [
    "pustaka()"
   ]
  },
  {
   "cell_type": "code",
   "execution_count": null,
   "id": "b9e0d51e",
   "metadata": {
    "scrolled": true
   },
   "outputs": [
    {
     "name": "stdout",
     "output_type": "stream",
     "text": [
      "Restock Film diGudang\n"
     ]
    }
   ],
   "source": [
    "print('Restock Film diGudang')\n",
    "varnam=str(input('Masukan Nama Film\\t: '))\n",
    "varko=str(input('Masukan Kode Film\\t: '))\n",
    "varge=str(input('Masukan Jenis Film\\t: '))\n",
    "varju=int(input('Masukan Jumlah Film\\t: '))\n",
    "for i in range (len(gudang)):\n",
    "    if varnam==gudang['Nama'] and varge==gudang['Jenis'][i]:\n",
    "        if varko==gudang['Kode'][i]:\n",
    "            print('Film berhasil untuk diupdate dengan {} {} {} dan Berjumlah {}'.format(varnam,\n",
    "                                                                                         varge,\n",
    "                                                                                         varko,\n",
    "                                                                                         varju))\n",
    "            gudang['Jumlah'][i]+=varju\n",
    "            break\n",
    "        else:\n",
    "            print('Mungkin anda typo')\n",
    "            break\n",
    "    elif varnam!=gudang['Nama'] and varge!=gudang['Jenis'][i]:\n",
    "        if varko!=gudang['Kode'][i]:\n",
    "            gudang['Nama'].append(varnam)\n",
    "            gudang['Kode'].append(varko)\n",
    "            gudang['Jenis'].append(varge)\n",
    "            gudang['Jumlah'].append(varju)\n",
    "            print('Film baru sudah ditambahkan dengan {} {} {} dengan {}'.format(gudang['Nama'][-1],\n",
    "                                                                                 gudang['Kode'][-1],\n",
    "                                                                                 gudang['Jenis'][-1],\n",
    "                                                                                 gudang['Jumlah'][-1]))\n",
    "            break\n",
    "        else:\n",
    "            print('Kode Tidak Sesuai')\n",
    "            break\n",
    "    else:\n",
    "        print('Ada Kesalahan Dalam Input data')\n",
    "        break"
   ]
  },
  {
   "cell_type": "code",
   "execution_count": null,
   "id": "386fdbb2",
   "metadata": {},
   "outputs": [],
   "source": [
    "def restock(gudang=gudang):\n",
    "    print('Restock Film diGudang')\n",
    "    varnam=str(input('Masukan Nama Film\\t: '))\n",
    "    varge=str(input('Masukan Jenis Film\\t: '))\n",
    "    varko=str(input('Masukan Kode Film\\t: '))\n",
    "    varju=int(input('Masukan Jumlah Film\\t: '))\n",
    "    for i in range (len(gudang)):\n",
    "        if varko==gudang['Kode'][i] and varge==gudang['Jenis']:\n",
    "            print('Film berhasil untuk diupdate dengan {} {} {} dan Berjumlah {}'.format(varnam, varge, varko, varju))\n",
    "            gudang['Jumlah'][i]+=varju\n",
    "            break\n",
    "    \n",
    "            break\n",
    "        elif varko!=gudang['Kode'][i] and varge!=gudang['Genre'][i]:\n",
    "            print('Silahkan kembali ke menu awal')\n",
    "            break\n",
    "        else:\n",
    "            print('Terjadi kesalahan dalam input data, Silah melakukan pengecekan terlebih dahulu')\n",
    "            break"
   ]
  },
  {
   "cell_type": "code",
   "execution_count": 188,
   "id": "862ac1a4",
   "metadata": {},
   "outputs": [
    {
     "ename": "TypeError",
     "evalue": "'int' object is not subscriptable",
     "output_type": "error",
     "traceback": [
      "\u001b[1;31m---------------------------------------------------------------------------\u001b[0m",
      "\u001b[1;31mTypeError\u001b[0m                                 Traceback (most recent call last)",
      "\u001b[1;32m~\\AppData\\Local\\Temp\\ipykernel_8128\\269834225.py\u001b[0m in \u001b[0;36m<module>\u001b[1;34m\u001b[0m\n\u001b[1;32m----> 1\u001b[1;33m \u001b[0mprint\u001b[0m\u001b[1;33m(\u001b[0m\u001b[0mlen\u001b[0m\u001b[1;33m(\u001b[0m\u001b[1;34m'kolah'\u001b[0m\u001b[1;33m)\u001b[0m\u001b[1;33m[\u001b[0m\u001b[0mi\u001b[0m\u001b[1;33m]\u001b[0m\u001b[1;33m)\u001b[0m\u001b[1;33m\u001b[0m\u001b[1;33m\u001b[0m\u001b[0m\n\u001b[0m",
      "\u001b[1;31mTypeError\u001b[0m: 'int' object is not subscriptable"
     ]
    }
   ],
   "source": [
    "print(len('kolah')[i])"
   ]
  },
  {
   "cell_type": "code",
   "execution_count": 142,
   "id": "4a7d29de",
   "metadata": {},
   "outputs": [
    {
     "ename": "NameError",
     "evalue": "name 'pustaka' is not defined",
     "output_type": "error",
     "traceback": [
      "\u001b[1;31m---------------------------------------------------------------------------\u001b[0m",
      "\u001b[1;31mNameError\u001b[0m                                 Traceback (most recent call last)",
      "\u001b[1;32m~\\AppData\\Local\\Temp\\ipykernel_8128\\297026226.py\u001b[0m in \u001b[0;36m<module>\u001b[1;34m\u001b[0m\n\u001b[1;32m----> 1\u001b[1;33m \u001b[1;32mdel\u001b[0m \u001b[0mpustaka\u001b[0m\u001b[1;33m\u001b[0m\u001b[1;33m\u001b[0m\u001b[0m\n\u001b[0m",
      "\u001b[1;31mNameError\u001b[0m: name 'pustaka' is not defined"
     ]
    }
   ],
   "source": [
    "del pustaka"
   ]
  },
  {
   "cell_type": "code",
   "execution_count": 97,
   "id": "8d4438df",
   "metadata": {},
   "outputs": [
    {
     "name": "stdout",
     "output_type": "stream",
     "text": [
      "[3, 5, 8, 10, 15]\n"
     ]
    }
   ],
   "source": [
    "my_list = [3, 5, 8, 10, 15]\n",
    "\n",
    "new_list = [i for i in my_list if i > 2]\n",
    "\n",
    "print(new_list)"
   ]
  },
  {
   "cell_type": "code",
   "execution_count": null,
   "id": "ba98230b",
   "metadata": {},
   "outputs": [],
   "source": [
    "pinjam()"
   ]
  },
  {
   "cell_type": "code",
   "execution_count": null,
   "id": "82b1002b",
   "metadata": {},
   "outputs": [],
   "source": []
  }
 ],
 "metadata": {
  "kernelspec": {
   "display_name": "Python 3 (ipykernel)",
   "language": "python",
   "name": "python3"
  },
  "language_info": {
   "codemirror_mode": {
    "name": "ipython",
    "version": 3
   },
   "file_extension": ".py",
   "mimetype": "text/x-python",
   "name": "python",
   "nbconvert_exporter": "python",
   "pygments_lexer": "ipython3",
   "version": "3.9.13"
  }
 },
 "nbformat": 4,
 "nbformat_minor": 5
}
