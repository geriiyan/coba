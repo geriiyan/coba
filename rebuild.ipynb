{
 "cells": [
  {
   "cell_type": "code",
   "execution_count": 78,
   "id": "e6261994",
   "metadata": {},
   "outputs": [],
   "source": [
    "#konsep\n",
    "genre1='fiktif'\n",
    "genre2='cinta'\n",
    "genre3='pertemanan'\n",
    "genre4='mitos'\n",
    "durasi=3 #durasi peminjaman 3 hari"
   ]
  },
  {
   "cell_type": "code",
   "execution_count": 79,
   "id": "313f1998",
   "metadata": {},
   "outputs": [
    {
     "data": {
      "text/plain": [
       "(str, str, int)"
      ]
     },
     "execution_count": 79,
     "metadata": {},
     "output_type": "execute_result"
    }
   ],
   "source": [
    "type(genre1), type(genre2), type(durasi)"
   ]
  },
  {
   "cell_type": "code",
   "execution_count": 80,
   "id": "549af558",
   "metadata": {},
   "outputs": [],
   "source": [
    "kode1='A01'\n",
    "kode2='A02'\n",
    "kode3='A03'\n",
    "kode4='A04'"
   ]
  },
  {
   "cell_type": "code",
   "execution_count": 81,
   "id": "4f47c4d9",
   "metadata": {},
   "outputs": [],
   "source": [
    "jumlah1=jumlah2=jumlah3=jumlah4=10"
   ]
  },
  {
   "cell_type": "code",
   "execution_count": 82,
   "id": "d51ce15c",
   "metadata": {},
   "outputs": [
    {
     "data": {
      "text/plain": [
       "int"
      ]
     },
     "execution_count": 82,
     "metadata": {},
     "output_type": "execute_result"
    }
   ],
   "source": [
    "type(jumlah1)"
   ]
  },
  {
   "cell_type": "code",
   "execution_count": 83,
   "id": "f954ee77",
   "metadata": {},
   "outputs": [],
   "source": [
    "genre_buku=[genre1, genre2, genre3, genre4]\n",
    "kode=[kode1, kode2, kode3, kode4]\n",
    "jumlah=[jumlah1, jumlah2, jumlah3, jumlah4]"
   ]
  },
  {
   "cell_type": "code",
   "execution_count": 84,
   "id": "741382ff",
   "metadata": {},
   "outputs": [],
   "source": [
    "perpus = {'genre_buku':[genre1, genre2, genre3, genre4],\n",
    "         'kode':[kode1, kode2, kode3, kode4],\n",
    "         'jumlah':[jumlah1, jumlah2, jumlah3, jumlah4]}"
   ]
  },
  {
   "cell_type": "code",
   "execution_count": 85,
   "id": "e192ade1",
   "metadata": {},
   "outputs": [
    {
     "data": {
      "text/plain": [
       "dict"
      ]
     },
     "execution_count": 85,
     "metadata": {},
     "output_type": "execute_result"
    }
   ],
   "source": [
    "type(perpus)"
   ]
  },
  {
   "cell_type": "code",
   "execution_count": 86,
   "id": "85e262b7",
   "metadata": {},
   "outputs": [
    {
     "name": "stdout",
     "output_type": "stream",
     "text": [
      "saya meminjam buku dengan genre mitos dengan jumlah 15\n"
     ]
    }
   ],
   "source": [
    "perpus['genre_buku'].append('mitos')\n",
    "perpus['kode'].append('A04')\n",
    "perpus['jumlah'].append(15)\n",
    "print('saya meminjam buku dengan genre {} dengan jumlah {}'.format(perpus['genre_buku'][4],\n",
    "                                                                  perpus['jumlah'][4]))"
   ]
  },
  {
   "cell_type": "code",
   "execution_count": 97,
   "id": "aeea96d2",
   "metadata": {},
   "outputs": [
    {
     "data": {
      "text/plain": [
       "{'genre_buku': ['fiktif', 'cinta', 'pertemanan', 'mitos', 'mitos'],\n",
       " 'kode': ['A01', 'A02', 'A03', 'A04', 'A04'],\n",
       " 'jumlah': [10, 10, 10, 10, 15]}"
      ]
     },
     "execution_count": 97,
     "metadata": {},
     "output_type": "execute_result"
    }
   ],
   "source": [
    "perpus"
   ]
  },
  {
   "cell_type": "code",
   "execution_count": null,
   "id": "0e068e9a",
   "metadata": {},
   "outputs": [],
   "source": []
  }
 ],
 "metadata": {
  "kernelspec": {
   "display_name": "Python 3 (ipykernel)",
   "language": "python",
   "name": "python3"
  },
  "language_info": {
   "codemirror_mode": {
    "name": "ipython",
    "version": 3
   },
   "file_extension": ".py",
   "mimetype": "text/x-python",
   "name": "python",
   "nbconvert_exporter": "python",
   "pygments_lexer": "ipython3",
   "version": "3.9.13"
  }
 },
 "nbformat": 4,
 "nbformat_minor": 5
}
