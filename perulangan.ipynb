{
 "cells": [
  {
   "cell_type": "markdown",
   "id": "3ff951b7",
   "metadata": {},
   "source": [
    "## perulanganif"
   ]
  },
  {
   "cell_type": "code",
   "execution_count": 6,
   "id": "312e961d",
   "metadata": {},
   "outputs": [
    {
     "name": "stdout",
     "output_type": "stream",
     "text": [
      "masukan nilai ulangan anda=74\n",
      "nilai ulangan anda 74\n"
     ]
    }
   ],
   "source": [
    "kkm=int(input('masukan nilai ulangan anda='))\n",
    "if kkm>=75:\n",
    "    print('tidak remedial',kkm)\n",
    "else:\n",
    "    print('nilai ulangan anda', kkm)"
   ]
  },
  {
   "cell_type": "code",
   "execution_count": null,
   "id": "0062f340",
   "metadata": {},
   "outputs": [],
   "source": []
  }
 ],
 "metadata": {
  "kernelspec": {
   "display_name": "Python 3 (ipykernel)",
   "language": "python",
   "name": "python3"
  },
  "language_info": {
   "codemirror_mode": {
    "name": "ipython",
    "version": 3
   },
   "file_extension": ".py",
   "mimetype": "text/x-python",
   "name": "python",
   "nbconvert_exporter": "python",
   "pygments_lexer": "ipython3",
   "version": "3.9.13"
  }
 },
 "nbformat": 4,
 "nbformat_minor": 5
}
