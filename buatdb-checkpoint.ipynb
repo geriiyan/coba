{
 "cells": [
  {
   "cell_type": "markdown",
   "id": "d295ed54",
   "metadata": {},
   "source": [
    "## Latihan db"
   ]
  },
  {
   "cell_type": "markdown",
   "id": "293b6c45",
   "metadata": {},
   "source": [
    "## list"
   ]
  },
  {
   "cell_type": "code",
   "execution_count": 93,
   "id": "2b519a48",
   "metadata": {},
   "outputs": [],
   "source": [
    "nres=['jepang', 'korea', 'indo', 'india', 'mix/campuran']"
   ]
  },
  {
   "cell_type": "code",
   "execution_count": 94,
   "id": "7ef69d40",
   "metadata": {},
   "outputs": [
    {
     "data": {
      "text/plain": [
       "['jepang', 'korea', 'indo', 'india', 'mix/campuran']"
      ]
     },
     "execution_count": 94,
     "metadata": {},
     "output_type": "execute_result"
    }
   ],
   "source": [
    "nres"
   ]
  },
  {
   "cell_type": "code",
   "execution_count": 95,
   "id": "27b3aee2",
   "metadata": {},
   "outputs": [
    {
     "data": {
      "text/plain": [
       "list"
      ]
     },
     "execution_count": 95,
     "metadata": {},
     "output_type": "execute_result"
    }
   ],
   "source": [
    "type(nres)"
   ]
  },
  {
   "cell_type": "code",
   "execution_count": 96,
   "id": "3dacb6e1",
   "metadata": {},
   "outputs": [
    {
     "data": {
      "text/plain": [
       "5"
      ]
     },
     "execution_count": 96,
     "metadata": {},
     "output_type": "execute_result"
    }
   ],
   "source": [
    "len(nres)"
   ]
  },
  {
   "cell_type": "code",
   "execution_count": 97,
   "id": "8938ff48",
   "metadata": {},
   "outputs": [
    {
     "name": "stdout",
     "output_type": "stream",
     "text": [
      "india\n"
     ]
    }
   ],
   "source": [
    "print(nres[3])"
   ]
  },
  {
   "cell_type": "markdown",
   "id": "a2259d45",
   "metadata": {},
   "source": [
    "## mengubah list"
   ]
  },
  {
   "cell_type": "code",
   "execution_count": 98,
   "id": "27d13d76",
   "metadata": {},
   "outputs": [],
   "source": [
    "nres[4]='bali'"
   ]
  },
  {
   "cell_type": "code",
   "execution_count": 99,
   "id": "aff8dc87",
   "metadata": {},
   "outputs": [
    {
     "data": {
      "text/plain": [
       "['jepang', 'korea', 'indo', 'india', 'bali']"
      ]
     },
     "execution_count": 99,
     "metadata": {},
     "output_type": "execute_result"
    }
   ],
   "source": [
    "nres"
   ]
  },
  {
   "cell_type": "code",
   "execution_count": 100,
   "id": "6f829e02",
   "metadata": {},
   "outputs": [
    {
     "data": {
      "text/plain": [
       "['jepang', 'korea', 'indo', 'india', 'bali']"
      ]
     },
     "execution_count": 100,
     "metadata": {},
     "output_type": "execute_result"
    }
   ],
   "source": [
    "nres"
   ]
  },
  {
   "cell_type": "code",
   "execution_count": 101,
   "id": "7c5ffd2b",
   "metadata": {},
   "outputs": [],
   "source": [
    "nres.remove(nres[4])"
   ]
  },
  {
   "cell_type": "code",
   "execution_count": 102,
   "id": "b4c7119f",
   "metadata": {},
   "outputs": [
    {
     "data": {
      "text/plain": [
       "['jepang', 'korea', 'indo', 'india']"
      ]
     },
     "execution_count": 102,
     "metadata": {},
     "output_type": "execute_result"
    }
   ],
   "source": [
    "nres"
   ]
  },
  {
   "cell_type": "code",
   "execution_count": 103,
   "id": "36f160a4",
   "metadata": {},
   "outputs": [],
   "source": [
    "nres.append('bali')"
   ]
  },
  {
   "cell_type": "code",
   "execution_count": 104,
   "id": "8322edf3",
   "metadata": {},
   "outputs": [
    {
     "data": {
      "text/plain": [
       "['jepang', 'korea', 'indo', 'india', 'bali']"
      ]
     },
     "execution_count": 104,
     "metadata": {},
     "output_type": "execute_result"
    }
   ],
   "source": [
    "nres"
   ]
  },
  {
   "cell_type": "code",
   "execution_count": 105,
   "id": "6d614981",
   "metadata": {},
   "outputs": [],
   "source": [
    "nres.remove(nres[4])"
   ]
  },
  {
   "cell_type": "code",
   "execution_count": 106,
   "id": "5816cc6d",
   "metadata": {},
   "outputs": [],
   "source": [
    "nres.append('bali')"
   ]
  },
  {
   "cell_type": "code",
   "execution_count": 107,
   "id": "1578d086",
   "metadata": {},
   "outputs": [],
   "source": [
    "nres.remove(nres[4])"
   ]
  },
  {
   "cell_type": "code",
   "execution_count": 108,
   "id": "ad79d872",
   "metadata": {},
   "outputs": [
    {
     "data": {
      "text/plain": [
       "['jepang', 'korea', 'indo', 'india']"
      ]
     },
     "execution_count": 108,
     "metadata": {},
     "output_type": "execute_result"
    }
   ],
   "source": [
    "nres"
   ]
  },
  {
   "cell_type": "code",
   "execution_count": 49,
   "id": "109b34b8",
   "metadata": {},
   "outputs": [],
   "source": [
    "nres.append('ausie')"
   ]
  },
  {
   "cell_type": "code",
   "execution_count": 50,
   "id": "6b458508",
   "metadata": {},
   "outputs": [],
   "source": [
    "nres.remove(nres[4])"
   ]
  },
  {
   "cell_type": "code",
   "execution_count": 51,
   "id": "c52e8364",
   "metadata": {},
   "outputs": [],
   "source": [
    "nres.remove(nres[1])"
   ]
  },
  {
   "cell_type": "code",
   "execution_count": 52,
   "id": "d92ffa67",
   "metadata": {},
   "outputs": [
    {
     "data": {
      "text/plain": [
       "['jepang', 'indo', 'india']"
      ]
     },
     "execution_count": 52,
     "metadata": {},
     "output_type": "execute_result"
    }
   ],
   "source": [
    "nres"
   ]
  },
  {
   "cell_type": "code",
   "execution_count": 55,
   "id": "78c1fdbc",
   "metadata": {},
   "outputs": [],
   "source": [
    "nres.append(['korea','ausie'])"
   ]
  },
  {
   "cell_type": "code",
   "execution_count": 56,
   "id": "4b8f0b97",
   "metadata": {},
   "outputs": [
    {
     "data": {
      "text/plain": [
       "['jepang', 'indo', 'india', 'korea', ['korea', 'ausie']]"
      ]
     },
     "execution_count": 56,
     "metadata": {},
     "output_type": "execute_result"
    }
   ],
   "source": [
    "nres"
   ]
  },
  {
   "cell_type": "code",
   "execution_count": 58,
   "id": "fc2479ac",
   "metadata": {},
   "outputs": [],
   "source": [
    "nres.remove(nres[4])"
   ]
  },
  {
   "cell_type": "code",
   "execution_count": 60,
   "id": "40e64e30",
   "metadata": {},
   "outputs": [],
   "source": [
    "nres.remove(nres[3])"
   ]
  },
  {
   "cell_type": "code",
   "execution_count": 61,
   "id": "6d47213b",
   "metadata": {},
   "outputs": [
    {
     "data": {
      "text/plain": [
       "['jepang', 'indo', 'india']"
      ]
     },
     "execution_count": 61,
     "metadata": {},
     "output_type": "execute_result"
    }
   ],
   "source": [
    "nres"
   ]
  },
  {
   "cell_type": "code",
   "execution_count": 62,
   "id": "ba8e62a4",
   "metadata": {},
   "outputs": [],
   "source": [
    "nres.append('korea')"
   ]
  },
  {
   "cell_type": "code",
   "execution_count": 64,
   "id": "e16a899e",
   "metadata": {},
   "outputs": [],
   "source": [
    "nres.insert(1, 'bekasi')"
   ]
  },
  {
   "cell_type": "code",
   "execution_count": 65,
   "id": "727ba128",
   "metadata": {},
   "outputs": [
    {
     "data": {
      "text/plain": [
       "['jepang', 'bekasi', 'indo', 'india', 'korea']"
      ]
     },
     "execution_count": 65,
     "metadata": {},
     "output_type": "execute_result"
    }
   ],
   "source": [
    "nres"
   ]
  },
  {
   "cell_type": "code",
   "execution_count": 68,
   "id": "d9197647",
   "metadata": {},
   "outputs": [],
   "source": [
    "del nres[3]"
   ]
  },
  {
   "cell_type": "code",
   "execution_count": 69,
   "id": "9a9244fd",
   "metadata": {},
   "outputs": [
    {
     "data": {
      "text/plain": [
       "['jepang', 'bekasi', 'indo', 'korea']"
      ]
     },
     "execution_count": 69,
     "metadata": {},
     "output_type": "execute_result"
    }
   ],
   "source": [
    "nres"
   ]
  },
  {
   "cell_type": "code",
   "execution_count": 71,
   "id": "85b34fbb",
   "metadata": {},
   "outputs": [],
   "source": [
    "nres.insert(3, 'india')"
   ]
  },
  {
   "cell_type": "code",
   "execution_count": 73,
   "id": "062c6842",
   "metadata": {},
   "outputs": [],
   "source": [
    "del nres[2]"
   ]
  },
  {
   "cell_type": "code",
   "execution_count": 75,
   "id": "9f1e38d9",
   "metadata": {},
   "outputs": [],
   "source": [
    "nres.insert(3, 'india')"
   ]
  },
  {
   "cell_type": "code",
   "execution_count": 76,
   "id": "bcf193a6",
   "metadata": {},
   "outputs": [],
   "source": [
    "nres.append('garut')"
   ]
  },
  {
   "cell_type": "code",
   "execution_count": 78,
   "id": "dc4177d1",
   "metadata": {},
   "outputs": [],
   "source": [
    "nres.remove('bekasi')"
   ]
  },
  {
   "cell_type": "code",
   "execution_count": 79,
   "id": "016116b2",
   "metadata": {},
   "outputs": [
    {
     "data": {
      "text/plain": [
       "['jepang', 'india', 'india', 'korea', 'garut']"
      ]
     },
     "execution_count": 79,
     "metadata": {},
     "output_type": "execute_result"
    }
   ],
   "source": [
    "nres"
   ]
  },
  {
   "cell_type": "code",
   "execution_count": 81,
   "id": "7dc2615c",
   "metadata": {},
   "outputs": [],
   "source": [
    "del nres[1]"
   ]
  },
  {
   "cell_type": "code",
   "execution_count": 82,
   "id": "995c2de3",
   "metadata": {},
   "outputs": [
    {
     "data": {
      "text/plain": [
       "['jepang', 'india', 'korea', 'garut']"
      ]
     },
     "execution_count": 82,
     "metadata": {},
     "output_type": "execute_result"
    }
   ],
   "source": [
    "nres"
   ]
  },
  {
   "cell_type": "code",
   "execution_count": 84,
   "id": "a4e81c89",
   "metadata": {},
   "outputs": [],
   "source": [
    "nres.insert(4, 'barat')"
   ]
  },
  {
   "cell_type": "code",
   "execution_count": 115,
   "id": "341889a8",
   "metadata": {},
   "outputs": [
    {
     "ename": "IndexError",
     "evalue": "list assignment index out of range",
     "output_type": "error",
     "traceback": [
      "\u001b[1;31m---------------------------------------------------------------------------\u001b[0m",
      "\u001b[1;31mIndexError\u001b[0m                                Traceback (most recent call last)",
      "\u001b[1;32m~\\AppData\\Local\\Temp\\ipykernel_6300\\4198480246.py\u001b[0m in \u001b[0;36m<module>\u001b[1;34m\u001b[0m\n\u001b[1;32m----> 1\u001b[1;33m \u001b[1;32mdel\u001b[0m \u001b[0mnres\u001b[0m\u001b[1;33m[\u001b[0m\u001b[1;36m3\u001b[0m\u001b[1;33m]\u001b[0m\u001b[1;33m\u001b[0m\u001b[1;33m\u001b[0m\u001b[0m\n\u001b[0m",
      "\u001b[1;31mIndexError\u001b[0m: list assignment index out of range"
     ]
    }
   ],
   "source": [
    "del nres[3]"
   ]
  },
  {
   "cell_type": "markdown",
   "id": "57bc1598",
   "metadata": {},
   "source": [
    "## tuple"
   ]
  },
  {
   "cell_type": "code",
   "execution_count": 91,
   "id": "2d113692",
   "metadata": {},
   "outputs": [],
   "source": [
    "nres1=('su', 'ka', 'si', 'ki')"
   ]
  },
  {
   "cell_type": "code",
   "execution_count": 87,
   "id": "d33e8c81",
   "metadata": {},
   "outputs": [
    {
     "data": {
      "text/plain": [
       "tuple"
      ]
     },
     "execution_count": 87,
     "metadata": {},
     "output_type": "execute_result"
    }
   ],
   "source": [
    "type(nres)"
   ]
  },
  {
   "cell_type": "code",
   "execution_count": 88,
   "id": "49e60b3f",
   "metadata": {},
   "outputs": [
    {
     "ename": "SyntaxError",
     "evalue": "invalid syntax (3125017050.py, line 1)",
     "output_type": "error",
     "traceback": [
      "\u001b[1;36m  File \u001b[1;32m\"C:\\Users\\queen\\AppData\\Local\\Temp\\ipykernel_6300\\3125017050.py\"\u001b[1;36m, line \u001b[1;32m1\u001b[0m\n\u001b[1;33m    del.nre(1)\u001b[0m\n\u001b[1;37m       ^\u001b[0m\n\u001b[1;31mSyntaxError\u001b[0m\u001b[1;31m:\u001b[0m invalid syntax\n"
     ]
    }
   ],
   "source": [
    "del.nre(1)"
   ]
  },
  {
   "cell_type": "code",
   "execution_count": null,
   "id": "fa7b9dd7",
   "metadata": {},
   "outputs": [],
   "source": []
  }
 ],
 "metadata": {
  "kernelspec": {
   "display_name": "Python 3 (ipykernel)",
   "language": "python",
   "name": "python3"
  },
  "language_info": {
   "codemirror_mode": {
    "name": "ipython",
    "version": 3
   },
   "file_extension": ".py",
   "mimetype": "text/x-python",
   "name": "python",
   "nbconvert_exporter": "python",
   "pygments_lexer": "ipython3",
   "version": "3.9.13"
  }
 },
 "nbformat": 4,
 "nbformat_minor": 5
}
