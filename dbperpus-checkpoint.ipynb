{
 "cells": [
  {
   "cell_type": "markdown",
   "id": "90ff7ee8",
   "metadata": {},
   "source": [
    "## Library Perpus"
   ]
  },
  {
   "cell_type": "code",
   "execution_count": 85,
   "id": "dfa85ee4",
   "metadata": {},
   "outputs": [],
   "source": [
    "buku1='gambar'\n",
    "buku2='tulis'\n",
    "buku3='novel'\n",
    "buku4='dongeng'\n",
    "buku5='majalah'\n",
    "durasi=5"
   ]
  },
  {
   "cell_type": "code",
   "execution_count": 86,
   "id": "e8a3b035",
   "metadata": {},
   "outputs": [
    {
     "data": {
      "text/plain": [
       "(str, str)"
      ]
     },
     "execution_count": 86,
     "metadata": {},
     "output_type": "execute_result"
    }
   ],
   "source": [
    "type(buku1), type(buku2)"
   ]
  },
  {
   "cell_type": "code",
   "execution_count": 87,
   "id": "abcc5469",
   "metadata": {},
   "outputs": [],
   "source": [
    "kodebuku1='A001'\n",
    "kodebuku2='A002'\n",
    "kodebuku3='A003'\n",
    "kodebuku4='A004'\n",
    "kodebuku5='A005'"
   ]
  },
  {
   "cell_type": "code",
   "execution_count": 88,
   "id": "447f0529",
   "metadata": {},
   "outputs": [],
   "source": [
    "nbuku1=nbuku2=nbuku3=nbuku4=nbuku5=100"
   ]
  },
  {
   "cell_type": "markdown",
   "id": "3817422b",
   "metadata": {},
   "source": [
    "# library 2"
   ]
  },
  {
   "cell_type": "code",
   "execution_count": 89,
   "id": "ae90a122",
   "metadata": {},
   "outputs": [],
   "source": [
    "namabuku=['buku1','buku2','buku3','buku4','buku5']\n",
    "code=['kodebuku1','kodebuku2','kodebuku3','kodebuku4','kodebuku5']\n",
    "n_buku=['nbuku1','nbuku2','nbuku3','nbuku4','nbuku5']"
   ]
  },
  {
   "cell_type": "code",
   "execution_count": 90,
   "id": "c61e8f3e",
   "metadata": {},
   "outputs": [
    {
     "data": {
      "text/plain": [
       "(list, list, list)"
      ]
     },
     "execution_count": 90,
     "metadata": {},
     "output_type": "execute_result"
    }
   ],
   "source": [
    "type(namabuku), type(kode), type(n_buku)"
   ]
  },
  {
   "cell_type": "code",
   "execution_count": 91,
   "id": "fbd7d12e",
   "metadata": {},
   "outputs": [],
   "source": [
    "gudang={'nama':namabuku,\n",
    "       'kode':code,\n",
    "       'ketersediaan':n_buku}"
   ]
  },
  {
   "cell_type": "code",
   "execution_count": 92,
   "id": "f1a86052",
   "metadata": {},
   "outputs": [
    {
     "data": {
      "text/plain": [
       "{'nama': ['buku1', 'buku2', 'buku3', 'buku4', 'buku5'],\n",
       " 'kode': ['kodebuku1', 'kodebuku2', 'kodebuku3', 'kodebuku4', 'kodebuku5'],\n",
       " 'ketersediaan': ['nbuku1', 'nbuku2', 'nbuku3', 'nbuku4', 'nbuku5']}"
      ]
     },
     "execution_count": 92,
     "metadata": {},
     "output_type": "execute_result"
    }
   ],
   "source": [
    "gudang"
   ]
  },
  {
   "cell_type": "code",
   "execution_count": 100,
   "id": "5a573119",
   "metadata": {},
   "outputs": [
    {
     "ename": "TypeError",
     "evalue": "'builtin_function_or_method' object is not subscriptable",
     "output_type": "error",
     "traceback": [
      "\u001b[1;31m---------------------------------------------------------------------------\u001b[0m",
      "\u001b[1;31mTypeError\u001b[0m                                 Traceback (most recent call last)",
      "\u001b[1;32m~\\AppData\\Local\\Temp\\ipykernel_13572\\2186440795.py\u001b[0m in \u001b[0;36m<module>\u001b[1;34m\u001b[0m\n\u001b[1;32m----> 1\u001b[1;33m \u001b[0mgudang\u001b[0m\u001b[1;33m[\u001b[0m\u001b[1;34m'nama'\u001b[0m\u001b[1;33m]\u001b[0m\u001b[1;33m.\u001b[0m\u001b[0minsert\u001b[0m\u001b[1;33m[\u001b[0m\u001b[1;34m'dongeng'\u001b[0m\u001b[1;33m]\u001b[0m\u001b[1;33m\u001b[0m\u001b[1;33m\u001b[0m\u001b[0m\n\u001b[0m\u001b[0;32m      2\u001b[0m \u001b[0mgudang\u001b[0m\u001b[1;33m[\u001b[0m\u001b[1;34m'kode'\u001b[0m\u001b[1;33m]\u001b[0m\u001b[1;33m.\u001b[0m\u001b[0minsert\u001b[0m\u001b[1;33m[\u001b[0m\u001b[1;34m'A004'\u001b[0m\u001b[1;33m]\u001b[0m\u001b[1;33m\u001b[0m\u001b[1;33m\u001b[0m\u001b[0m\n\u001b[0;32m      3\u001b[0m \u001b[0mgudang\u001b[0m\u001b[1;33m[\u001b[0m\u001b[1;34m'ketersediaan'\u001b[0m\u001b[1;33m]\u001b[0m\u001b[1;33m.\u001b[0m\u001b[0mappend\u001b[0m\u001b[1;33m(\u001b[0m\u001b[1;36m41\u001b[0m\u001b[1;33m)\u001b[0m\u001b[1;33m\u001b[0m\u001b[1;33m\u001b[0m\u001b[0m\n\u001b[0;32m      4\u001b[0m print(\"saya mempunyai buku berjudul {} dengan total buku {}\".format(gudang['nama'][4],\n\u001b[0;32m      5\u001b[0m                                                                    gudang['ketersediaan'][4]))\n",
      "\u001b[1;31mTypeError\u001b[0m: 'builtin_function_or_method' object is not subscriptable"
     ]
    }
   ],
   "source": [
    "gudang['nama'].insert['dongeng']\n",
    "gudang['kode'].insert['A00\n",
    "gudang['ketersediaan'].append(41)\n",
    "print(\"saya mempunyai buku berjudul {} dengan total buku {}\".format(gudang['nama'][4],\n",
    "                                                                   gudang['ketersediaan'][4]))"
   ]
  },
  {
   "cell_type": "code",
   "execution_count": 98,
   "id": "327c65e1",
   "metadata": {},
   "outputs": [
    {
     "data": {
      "text/plain": [
       "{'nama': ['buku1',\n",
       "  'buku2',\n",
       "  'buku3',\n",
       "  'buku4',\n",
       "  'buku5',\n",
       "  'majalah',\n",
       "  'dongeng',\n",
       "  'dongeng'],\n",
       " 'kode': ['kodebuku1',\n",
       "  'kodebuku2',\n",
       "  'kodebuku3',\n",
       "  'kodebuku4',\n",
       "  'kodebuku5',\n",
       "  'A005',\n",
       "  'A004',\n",
       "  'A004'],\n",
       " 'ketersediaan': ['nbuku1',\n",
       "  'nbuku2',\n",
       "  'nbuku3',\n",
       "  'nbuku4',\n",
       "  'nbuku5',\n",
       "  27,\n",
       "  41,\n",
       "  41]}"
      ]
     },
     "execution_count": 98,
     "metadata": {},
     "output_type": "execute_result"
    }
   ],
   "source": [
    "gudang"
   ]
  },
  {
   "cell_type": "code",
   "execution_count": null,
   "id": "5749f49a",
   "metadata": {},
   "outputs": [],
   "source": []
  }
 ],
 "metadata": {
  "kernelspec": {
   "display_name": "Python 3 (ipykernel)",
   "language": "python",
   "name": "python3"
  },
  "language_info": {
   "codemirror_mode": {
    "name": "ipython",
    "version": 3
   },
   "file_extension": ".py",
   "mimetype": "text/x-python",
   "name": "python",
   "nbconvert_exporter": "python",
   "pygments_lexer": "ipython3",
   "version": "3.9.13"
  }
 },
 "nbformat": 4,
 "nbformat_minor": 5
}
