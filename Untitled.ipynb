{
 "cells": [
  {
   "cell_type": "markdown",
   "id": "af97ce4a",
   "metadata": {},
   "source": [
    "## project"
   ]
  },
  {
   "cell_type": "code",
   "execution_count": 148,
   "id": "1fa8cdcf",
   "metadata": {},
   "outputs": [],
   "source": [
    "gudang={'Buku':['novel','cerpen','comic','cetak'],\n",
    "        'Genre':['fiktif','love','friend','family'],\n",
    "        'Kode':['A01','A02','A03','A04'],\n",
    "       'Jumlah':[10,51,21,40]}"
   ]
  },
  {
   "cell_type": "code",
   "execution_count": 149,
   "id": "6029b90e",
   "metadata": {},
   "outputs": [
    {
     "data": {
      "text/plain": [
       "dict"
      ]
     },
     "execution_count": 149,
     "metadata": {},
     "output_type": "execute_result"
    }
   ],
   "source": [
    "type(gudang)"
   ]
  },
  {
   "cell_type": "code",
   "execution_count": 150,
   "id": "2e6bf194",
   "metadata": {},
   "outputs": [
    {
     "name": "stdout",
     "output_type": "stream",
     "text": [
      "Buku tersedia di gudang:\n",
      "Buku\t  Kode\t  Genre \t  Jumlah\t\n",
      "novel \t   A01 \t  Genre fiktif \t  10\t\n",
      "cerpen \t   A02 \t  Genre love \t  51\t\n",
      "comic \t   A03 \t  Genre friend \t  21\t\n",
      "cetak \t   A04 \t  Genre family \t  40\t\n"
     ]
    }
   ],
   "source": [
    "print('Buku tersedia di gudang:')\n",
    "print('Buku\\t  Kode\\t  Genre \\t  Jumlah\\t')\n",
    "for i in range(len(gudang['Buku'])):\n",
    "    print('{} \\t   {} \\t  Genre {} \\t  {}\\t'.format(\n",
    "        gudang['Buku'][i],\n",
    "    gudang['Kode'][i],\n",
    "    gudang['Genre'][i],\n",
    "    gudang['Jumlah'][i]))"
   ]
  },
  {
   "cell_type": "code",
   "execution_count": 177,
   "id": "bfdb6be1",
   "metadata": {},
   "outputs": [
    {
     "data": {
      "text/plain": [
       "list"
      ]
     },
     "execution_count": 177,
     "metadata": {},
     "output_type": "execute_result"
    }
   ],
   "source": [
    "(gudang['Jumlah']"
   ]
  },
  {
   "cell_type": "code",
   "execution_count": 176,
   "id": "549ddc08",
   "metadata": {},
   "outputs": [
    {
     "name": "stdout",
     "output_type": "stream",
     "text": [
      "Syarat Pinjam Buku:\n",
      "Nama =ver\n",
      "Kode =A03\n",
      "Banyak Buku=3\n",
      "Diperbolehkan untuk pinjam comic\n",
      "Durasi waktu pinjam 10 terhitung dari tanggal hari ini : 2022-11-02\t\n"
     ]
    },
    {
     "ename": "TypeError",
     "evalue": "unsupported operand type(s) for -=: 'int' and 'list'",
     "output_type": "error",
     "traceback": [
      "\u001b[1;31m---------------------------------------------------------------------------\u001b[0m",
      "\u001b[1;31mTypeError\u001b[0m                                 Traceback (most recent call last)",
      "\u001b[1;32m~\\AppData\\Local\\Temp\\ipykernel_6912\\3462514794.py\u001b[0m in \u001b[0;36m<module>\u001b[1;34m\u001b[0m\n\u001b[0;32m      8\u001b[0m         \u001b[0mprint\u001b[0m\u001b[1;33m(\u001b[0m\u001b[1;34m'Durasi waktu pinjam {} terhitung dari tanggal hari ini : {}\\t'\u001b[0m\u001b[1;33m.\u001b[0m\u001b[0mformat\u001b[0m\u001b[1;33m(\u001b[0m\u001b[0mdurasi\u001b[0m\u001b[1;33m,\u001b[0m \u001b[0mdate\u001b[0m\u001b[1;33m)\u001b[0m\u001b[1;33m)\u001b[0m\u001b[1;33m\u001b[0m\u001b[1;33m\u001b[0m\u001b[0m\n\u001b[0;32m      9\u001b[0m         \u001b[0mgudang\u001b[0m\u001b[1;33m[\u001b[0m\u001b[1;34m'Jumlah'\u001b[0m\u001b[1;33m]\u001b[0m\u001b[1;33m[\u001b[0m\u001b[0mi\u001b[0m\u001b[1;33m]\u001b[0m\u001b[1;33m-=\u001b[0m\u001b[1;36m1\u001b[0m\u001b[1;33m\u001b[0m\u001b[1;33m\u001b[0m\u001b[0m\n\u001b[1;32m---> 10\u001b[1;33m         \u001b[0mvarTotal\u001b[0m\u001b[1;33m-=\u001b[0m\u001b[0mgudang\u001b[0m\u001b[1;33m[\u001b[0m\u001b[1;34m'Jumlah'\u001b[0m\u001b[1;33m]\u001b[0m\u001b[1;33m\u001b[0m\u001b[1;33m\u001b[0m\u001b[0m\n\u001b[0m",
      "\u001b[1;31mTypeError\u001b[0m: unsupported operand type(s) for -=: 'int' and 'list'"
     ]
    }
   ],
   "source": [
    "print('Syarat Pinjam Buku:')\n",
    "varNama=str(input('Nama ='))\n",
    "varBuku=str(input('Kode ='))\n",
    "varTotal=int(input('Banyak Buku='))\n",
    "for i in range(len(gudang['Kode'])):\n",
    "    if varBuku==gudang['Kode'][i] and gudang['Jumlah'][i]>1:\n",
    "        print('Diperbolehkan untuk pinjam {}'.format(gudang['Buku'][i]))\n",
    "        print('Durasi waktu pinjam {} terhitung dari tanggal hari ini : {}\\t'.format(durasi, date))\n",
    "        gudang['Jumlah'][i]-=1\n",
    "        varTotal-=gudang['Jumlah']"
   ]
  },
  {
   "cell_type": "markdown",
   "id": "7ab06500",
   "metadata": {},
   "source": [
    "### import panda as asu\n",
    "df=asu.gudang({'Buku':['novel','cerpen','comic','cetak'],\n",
    "        'Genre':['fiktif','love','friend','family'],\n",
    "        'Kode':['A01','A02','A03','A04'],\n",
    "       'Jumlah':[10,51,21,40]})\n",
    "print(df)"
   ]
  },
  {
   "cell_type": "code",
   "execution_count": 109,
   "id": "4c7ffcf2",
   "metadata": {},
   "outputs": [
    {
     "ename": "NameError",
     "evalue": "name 'datetime' is not defined",
     "output_type": "error",
     "traceback": [
      "\u001b[1;31m---------------------------------------------------------------------------\u001b[0m",
      "\u001b[1;31mNameError\u001b[0m                                 Traceback (most recent call last)",
      "\u001b[1;32m~\\AppData\\Local\\Temp\\ipykernel_6912\\1454879144.py\u001b[0m in \u001b[0;36m<module>\u001b[1;34m\u001b[0m\n\u001b[1;32m----> 1\u001b[1;33m \u001b[0mdatetime\u001b[0m\u001b[1;33m.\u001b[0m\u001b[0mnow\u001b[0m\u001b[1;33m(\u001b[0m\u001b[1;33m)\u001b[0m\u001b[1;33m\u001b[0m\u001b[1;33m\u001b[0m\u001b[0m\n\u001b[0m",
      "\u001b[1;31mNameError\u001b[0m: name 'datetime' is not defined"
     ]
    }
   ],
   "source": [
    "datetime.now()"
   ]
  },
  {
   "cell_type": "code",
   "execution_count": null,
   "id": "b8b05e2d",
   "metadata": {},
   "outputs": [],
   "source": []
  }
 ],
 "metadata": {
  "kernelspec": {
   "display_name": "Python 3 (ipykernel)",
   "language": "python",
   "name": "python3"
  },
  "language_info": {
   "codemirror_mode": {
    "name": "ipython",
    "version": 3
   },
   "file_extension": ".py",
   "mimetype": "text/x-python",
   "name": "python",
   "nbconvert_exporter": "python",
   "pygments_lexer": "ipython3",
   "version": "3.9.13"
  }
 },
 "nbformat": 4,
 "nbformat_minor": 5
}
