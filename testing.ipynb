{
 "cells": [
  {
   "cell_type": "code",
   "execution_count": 11,
   "id": "86887956",
   "metadata": {},
   "outputs": [],
   "source": [
    "text='geriyan'\n",
    "text2='mau jadi data scientist'\n",
    "text3='semoga'"
   ]
  },
  {
   "cell_type": "code",
   "execution_count": 13,
   "id": "be8f3f02",
   "metadata": {},
   "outputs": [
    {
     "name": "stdout",
     "output_type": "stream",
     "text": [
      "geriyan mau jadi data scientist semoga\n"
     ]
    }
   ],
   "source": [
    "print(text, text2, text3)"
   ]
  },
  {
   "cell_type": "code",
   "execution_count": 14,
   "id": "ab4a5d1d",
   "metadata": {},
   "outputs": [
    {
     "name": "stdout",
     "output_type": "stream",
     "text": [
      "semoga mau jadi data scientist katanya geriyan\n"
     ]
    }
   ],
   "source": [
    "print('{} {} katanya {}'.format(text3, text2, text))"
   ]
  },
  {
   "cell_type": "code",
   "execution_count": 16,
   "id": "b0965ae7",
   "metadata": {},
   "outputs": [
    {
     "name": "stdout",
     "output_type": "stream",
     "text": [
      "geriyan mau jadi data scientist dengarkan doa anakmu ini Tuhan\n"
     ]
    }
   ],
   "source": [
    "text1='dengarkan doa anakmu ini Tuhan'\n",
    "print(text+' '+text2+' '+text1)"
   ]
  },
  {
   "cell_type": "markdown",
   "id": "483c2385",
   "metadata": {},
   "source": [
    "## Operasi Aritmatika"
   ]
  },
  {
   "cell_type": "code",
   "execution_count": 18,
   "id": "a8c14e88",
   "metadata": {},
   "outputs": [
    {
     "name": "stdout",
     "output_type": "stream",
     "text": [
      "-15\n"
     ]
    }
   ],
   "source": [
    "v1=10\n",
    "v2=25\n",
    "vh=v1-v2\n",
    "print(vh)"
   ]
  },
  {
   "cell_type": "code",
   "execution_count": 33,
   "id": "69f98415",
   "metadata": {},
   "outputs": [
    {
     "name": "stdout",
     "output_type": "stream",
     "text": [
      "155\n"
     ]
    }
   ],
   "source": [
    "vh=-15\n",
    "v3=5\n",
    "vlan=v2//v3-vh*v1\n",
    "print(vlan)"
   ]
  },
  {
   "cell_type": "markdown",
   "id": "182d0ef1",
   "metadata": {},
   "source": [
    "## Upgrade aritmatika"
   ]
  },
  {
   "cell_type": "code",
   "execution_count": 35,
   "id": "c37f2ce6",
   "metadata": {},
   "outputs": [
    {
     "name": "stdout",
     "output_type": "stream",
     "text": [
      "100\n"
     ]
    }
   ],
   "source": [
    "v1=10\n",
    "v2*=2\n",
    "print(v2)"
   ]
  },
  {
   "cell_type": "code",
   "execution_count": 6,
   "id": "c180e8f4",
   "metadata": {},
   "outputs": [
    {
     "ename": "NameError",
     "evalue": "name 'vh' is not defined",
     "output_type": "error",
     "traceback": [
      "\u001b[1;31m---------------------------------------------------------------------------\u001b[0m",
      "\u001b[1;31mNameError\u001b[0m                                 Traceback (most recent call last)",
      "\u001b[1;32m~\\AppData\\Local\\Temp\\ipykernel_13676\\1074719612.py\u001b[0m in \u001b[0;36m<module>\u001b[1;34m\u001b[0m\n\u001b[1;32m----> 1\u001b[1;33m \u001b[0mprint\u001b[0m\u001b[1;33m(\u001b[0m\u001b[0mvh\u001b[0m\u001b[1;33m)\u001b[0m\u001b[1;33m\u001b[0m\u001b[1;33m\u001b[0m\u001b[0m\n\u001b[0m",
      "\u001b[1;31mNameError\u001b[0m: name 'vh' is not defined"
     ]
    }
   ],
   "source": [
    "print(vh)"
   ]
  },
  {
   "cell_type": "code",
   "execution_count": 38,
   "id": "4e40c483",
   "metadata": {},
   "outputs": [
    {
     "name": "stdout",
     "output_type": "stream",
     "text": [
      "-90\n"
     ]
    }
   ],
   "source": [
    "coba=v1-v2\n",
    "print(coba)"
   ]
  },
  {
   "cell_type": "code",
   "execution_count": 39,
   "id": "7c17225d",
   "metadata": {},
   "outputs": [
    {
     "name": "stdout",
     "output_type": "stream",
     "text": [
      "-190\n"
     ]
    }
   ],
   "source": [
    "coba-=100\n",
    "print(coba)"
   ]
  },
  {
   "cell_type": "code",
   "execution_count": 40,
   "id": "676e8bf8",
   "metadata": {},
   "outputs": [
    {
     "name": "stdout",
     "output_type": "stream",
     "text": [
      "-90\n"
     ]
    }
   ],
   "source": [
    "coba+=100\n",
    "print(coba\n",
    "     )"
   ]
  },
  {
   "cell_type": "code",
   "execution_count": 41,
   "id": "b5c9ce60",
   "metadata": {},
   "outputs": [
    {
     "name": "stdout",
     "output_type": "stream",
     "text": [
      "10\n"
     ]
    }
   ],
   "source": [
    "coba+=100\n",
    "print(coba)"
   ]
  },
  {
   "cell_type": "code",
   "execution_count": 7,
   "id": "44759e03",
   "metadata": {},
   "outputs": [],
   "source": [
    "t1='Geri'\n",
    "t2=6\n",
    "t3=2.7"
   ]
  },
  {
   "cell_type": "code",
   "execution_count": 8,
   "id": "f0a80ecc",
   "metadata": {},
   "outputs": [
    {
     "data": {
      "text/plain": [
       "'Geri'"
      ]
     },
     "execution_count": 8,
     "metadata": {},
     "output_type": "execute_result"
    }
   ],
   "source": [
    "t1"
   ]
  },
  {
   "cell_type": "code",
   "execution_count": 9,
   "id": "29acc086",
   "metadata": {},
   "outputs": [
    {
     "data": {
      "text/plain": [
       "6"
      ]
     },
     "execution_count": 9,
     "metadata": {},
     "output_type": "execute_result"
    }
   ],
   "source": [
    "t2"
   ]
  },
  {
   "cell_type": "code",
   "execution_count": 10,
   "id": "a808bb4c",
   "metadata": {},
   "outputs": [
    {
     "data": {
      "text/plain": [
       "float"
      ]
     },
     "execution_count": 10,
     "metadata": {},
     "output_type": "execute_result"
    }
   ],
   "source": [
    "type(t3)"
   ]
  },
  {
   "cell_type": "code",
   "execution_count": 11,
   "id": "214e0d15",
   "metadata": {},
   "outputs": [
    {
     "data": {
      "text/plain": [
       "str"
      ]
     },
     "execution_count": 11,
     "metadata": {},
     "output_type": "execute_result"
    }
   ],
   "source": [
    "type(t1)"
   ]
  },
  {
   "cell_type": "code",
   "execution_count": 13,
   "id": "ac1d1f32",
   "metadata": {},
   "outputs": [
    {
     "data": {
      "text/plain": [
       "2"
      ]
     },
     "execution_count": 13,
     "metadata": {},
     "output_type": "execute_result"
    }
   ],
   "source": [
    "int(t3)"
   ]
  },
  {
   "cell_type": "code",
   "execution_count": 14,
   "id": "fa7d8e65",
   "metadata": {},
   "outputs": [],
   "source": [
    "t4='Dapet nilai'"
   ]
  },
  {
   "cell_type": "code",
   "execution_count": 15,
   "id": "73aed203",
   "metadata": {},
   "outputs": [
    {
     "name": "stdout",
     "output_type": "stream",
     "text": [
      "Geri Dapet nilai 6\n"
     ]
    }
   ],
   "source": [
    "print(t1+' '+t4+' '+str(t2))"
   ]
  },
  {
   "cell_type": "code",
   "execution_count": null,
   "id": "d8fdc527",
   "metadata": {},
   "outputs": [],
   "source": []
  }
 ],
 "metadata": {
  "kernelspec": {
   "display_name": "Python 3 (ipykernel)",
   "language": "python",
   "name": "python3"
  },
  "language_info": {
   "codemirror_mode": {
    "name": "ipython",
    "version": 3
   },
   "file_extension": ".py",
   "mimetype": "text/x-python",
   "name": "python",
   "nbconvert_exporter": "python",
   "pygments_lexer": "ipython3",
   "version": "3.9.13"
  }
 },
 "nbformat": 4,
 "nbformat_minor": 5
}
