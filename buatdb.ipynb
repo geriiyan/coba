{
 "cells": [
  {
   "cell_type": "markdown",
   "id": "5de35a36",
   "metadata": {},
   "source": [
    "## Latihan db"
   ]
  },
  {
   "cell_type": "markdown",
   "id": "34bded34",
   "metadata": {},
   "source": [
    "## list"
   ]
  },
  {
   "cell_type": "code",
   "execution_count": 93,
   "id": "2dca8044",
   "metadata": {},
   "outputs": [],
   "source": [
    "nres=['jepang', 'korea', 'indo', 'india', 'mix/campuran']"
   ]
  },
  {
   "cell_type": "code",
   "execution_count": 94,
   "id": "de917653",
   "metadata": {},
   "outputs": [
    {
     "data": {
      "text/plain": [
       "['jepang', 'korea', 'indo', 'india', 'mix/campuran']"
      ]
     },
     "execution_count": 94,
     "metadata": {},
     "output_type": "execute_result"
    }
   ],
   "source": [
    "nres"
   ]
  },
  {
   "cell_type": "code",
   "execution_count": 95,
   "id": "746f27bb",
   "metadata": {},
   "outputs": [
    {
     "data": {
      "text/plain": [
       "list"
      ]
     },
     "execution_count": 95,
     "metadata": {},
     "output_type": "execute_result"
    }
   ],
   "source": [
    "type(nres)"
   ]
  },
  {
   "cell_type": "code",
   "execution_count": 96,
   "id": "782c256e",
   "metadata": {},
   "outputs": [
    {
     "data": {
      "text/plain": [
       "5"
      ]
     },
     "execution_count": 96,
     "metadata": {},
     "output_type": "execute_result"
    }
   ],
   "source": [
    "len(nres)"
   ]
  },
  {
   "cell_type": "code",
   "execution_count": 97,
   "id": "e8484faf",
   "metadata": {},
   "outputs": [
    {
     "name": "stdout",
     "output_type": "stream",
     "text": [
      "india\n"
     ]
    }
   ],
   "source": [
    "print(nres[3])"
   ]
  },
  {
   "cell_type": "markdown",
   "id": "5fd08bcf",
   "metadata": {},
   "source": [
    "## mengubah list"
   ]
  },
  {
   "cell_type": "code",
   "execution_count": 98,
   "id": "cd17276b",
   "metadata": {},
   "outputs": [],
   "source": [
    "nres[4]='bali'"
   ]
  },
  {
   "cell_type": "code",
   "execution_count": 99,
   "id": "ad802bf2",
   "metadata": {},
   "outputs": [
    {
     "data": {
      "text/plain": [
       "['jepang', 'korea', 'indo', 'india', 'bali']"
      ]
     },
     "execution_count": 99,
     "metadata": {},
     "output_type": "execute_result"
    }
   ],
   "source": [
    "nres"
   ]
  },
  {
   "cell_type": "code",
   "execution_count": 100,
   "id": "a2554748",
   "metadata": {},
   "outputs": [
    {
     "data": {
      "text/plain": [
       "['jepang', 'korea', 'indo', 'india', 'bali']"
      ]
     },
     "execution_count": 100,
     "metadata": {},
     "output_type": "execute_result"
    }
   ],
   "source": [
    "nres"
   ]
  },
  {
   "cell_type": "code",
   "execution_count": 101,
   "id": "f4dfe478",
   "metadata": {},
   "outputs": [],
   "source": [
    "nres.remove(nres[4])"
   ]
  },
  {
   "cell_type": "code",
   "execution_count": 102,
   "id": "80843f39",
   "metadata": {},
   "outputs": [
    {
     "data": {
      "text/plain": [
       "['jepang', 'korea', 'indo', 'india']"
      ]
     },
     "execution_count": 102,
     "metadata": {},
     "output_type": "execute_result"
    }
   ],
   "source": [
    "nres"
   ]
  },
  {
   "cell_type": "code",
   "execution_count": 103,
   "id": "917cba0e",
   "metadata": {},
   "outputs": [],
   "source": [
    "nres.append('bali')"
   ]
  },
  {
   "cell_type": "code",
   "execution_count": 104,
   "id": "ff7a27d7",
   "metadata": {},
   "outputs": [
    {
     "data": {
      "text/plain": [
       "['jepang', 'korea', 'indo', 'india', 'bali']"
      ]
     },
     "execution_count": 104,
     "metadata": {},
     "output_type": "execute_result"
    }
   ],
   "source": [
    "nres"
   ]
  },
  {
   "cell_type": "code",
   "execution_count": 105,
   "id": "da2c1d47",
   "metadata": {},
   "outputs": [],
   "source": [
    "nres.remove(nres[4])"
   ]
  },
  {
   "cell_type": "code",
   "execution_count": 106,
   "id": "befb6a09",
   "metadata": {},
   "outputs": [],
   "source": [
    "nres.append('bali')"
   ]
  },
  {
   "cell_type": "code",
   "execution_count": 107,
   "id": "e5f29669",
   "metadata": {},
   "outputs": [],
   "source": [
    "nres.remove(nres[4])"
   ]
  },
  {
   "cell_type": "code",
   "execution_count": 108,
   "id": "368ddf64",
   "metadata": {},
   "outputs": [
    {
     "data": {
      "text/plain": [
       "['jepang', 'korea', 'indo', 'india']"
      ]
     },
     "execution_count": 108,
     "metadata": {},
     "output_type": "execute_result"
    }
   ],
   "source": [
    "nres"
   ]
  },
  {
   "cell_type": "code",
   "execution_count": 49,
   "id": "193c0e89",
   "metadata": {},
   "outputs": [],
   "source": [
    "nres.append('ausie')"
   ]
  },
  {
   "cell_type": "code",
   "execution_count": 50,
   "id": "ca852f6a",
   "metadata": {},
   "outputs": [],
   "source": [
    "nres.remove(nres[4])"
   ]
  },
  {
   "cell_type": "code",
   "execution_count": 51,
   "id": "ea118b94",
   "metadata": {},
   "outputs": [],
   "source": [
    "nres.remove(nres[1])"
   ]
  },
  {
   "cell_type": "code",
   "execution_count": 52,
   "id": "425af561",
   "metadata": {},
   "outputs": [
    {
     "data": {
      "text/plain": [
       "['jepang', 'indo', 'india']"
      ]
     },
     "execution_count": 52,
     "metadata": {},
     "output_type": "execute_result"
    }
   ],
   "source": [
    "nres"
   ]
  },
  {
   "cell_type": "code",
   "execution_count": 55,
   "id": "a1509097",
   "metadata": {},
   "outputs": [],
   "source": [
    "nres.append(['korea','ausie'])"
   ]
  },
  {
   "cell_type": "code",
   "execution_count": 56,
   "id": "6f991628",
   "metadata": {},
   "outputs": [
    {
     "data": {
      "text/plain": [
       "['jepang', 'indo', 'india', 'korea', ['korea', 'ausie']]"
      ]
     },
     "execution_count": 56,
     "metadata": {},
     "output_type": "execute_result"
    }
   ],
   "source": [
    "nres"
   ]
  },
  {
   "cell_type": "code",
   "execution_count": 58,
   "id": "a6d01aff",
   "metadata": {},
   "outputs": [],
   "source": [
    "nres.remove(nres[4])"
   ]
  },
  {
   "cell_type": "code",
   "execution_count": 60,
   "id": "9e210eec",
   "metadata": {},
   "outputs": [],
   "source": [
    "nres.remove(nres[3])"
   ]
  },
  {
   "cell_type": "code",
   "execution_count": 61,
   "id": "37c3a143",
   "metadata": {},
   "outputs": [
    {
     "data": {
      "text/plain": [
       "['jepang', 'indo', 'india']"
      ]
     },
     "execution_count": 61,
     "metadata": {},
     "output_type": "execute_result"
    }
   ],
   "source": [
    "nres"
   ]
  },
  {
   "cell_type": "code",
   "execution_count": 62,
   "id": "a6b86829",
   "metadata": {},
   "outputs": [],
   "source": [
    "nres.append('korea')"
   ]
  },
  {
   "cell_type": "code",
   "execution_count": 64,
   "id": "a1b731b4",
   "metadata": {},
   "outputs": [],
   "source": [
    "nres.insert(1, 'bekasi')"
   ]
  },
  {
   "cell_type": "code",
   "execution_count": 65,
   "id": "b9a243e1",
   "metadata": {},
   "outputs": [
    {
     "data": {
      "text/plain": [
       "['jepang', 'bekasi', 'indo', 'india', 'korea']"
      ]
     },
     "execution_count": 65,
     "metadata": {},
     "output_type": "execute_result"
    }
   ],
   "source": [
    "nres"
   ]
  },
  {
   "cell_type": "code",
   "execution_count": 68,
   "id": "ee182c82",
   "metadata": {},
   "outputs": [],
   "source": [
    "del nres[3]"
   ]
  },
  {
   "cell_type": "code",
   "execution_count": 69,
   "id": "2ba44b17",
   "metadata": {},
   "outputs": [
    {
     "data": {
      "text/plain": [
       "['jepang', 'bekasi', 'indo', 'korea']"
      ]
     },
     "execution_count": 69,
     "metadata": {},
     "output_type": "execute_result"
    }
   ],
   "source": [
    "nres"
   ]
  },
  {
   "cell_type": "code",
   "execution_count": 71,
   "id": "0a91bd41",
   "metadata": {},
   "outputs": [],
   "source": [
    "nres.insert(3, 'india')"
   ]
  },
  {
   "cell_type": "code",
   "execution_count": 73,
   "id": "e9986af4",
   "metadata": {},
   "outputs": [],
   "source": [
    "del nres[2]"
   ]
  },
  {
   "cell_type": "code",
   "execution_count": 75,
   "id": "887bcdfe",
   "metadata": {},
   "outputs": [],
   "source": [
    "nres.insert(3, 'india')"
   ]
  },
  {
   "cell_type": "code",
   "execution_count": 76,
   "id": "8541e822",
   "metadata": {},
   "outputs": [],
   "source": [
    "nres.append('garut')"
   ]
  },
  {
   "cell_type": "code",
   "execution_count": 78,
   "id": "9c1f0a80",
   "metadata": {},
   "outputs": [],
   "source": [
    "nres.remove('bekasi')"
   ]
  },
  {
   "cell_type": "code",
   "execution_count": 79,
   "id": "c8b9eb79",
   "metadata": {},
   "outputs": [
    {
     "data": {
      "text/plain": [
       "['jepang', 'india', 'india', 'korea', 'garut']"
      ]
     },
     "execution_count": 79,
     "metadata": {},
     "output_type": "execute_result"
    }
   ],
   "source": [
    "nres"
   ]
  },
  {
   "cell_type": "code",
   "execution_count": 81,
   "id": "518e0c02",
   "metadata": {},
   "outputs": [],
   "source": [
    "del nres[1]"
   ]
  },
  {
   "cell_type": "code",
   "execution_count": 82,
   "id": "bf0bcc8d",
   "metadata": {},
   "outputs": [
    {
     "data": {
      "text/plain": [
       "['jepang', 'india', 'korea', 'garut']"
      ]
     },
     "execution_count": 82,
     "metadata": {},
     "output_type": "execute_result"
    }
   ],
   "source": [
    "nres"
   ]
  },
  {
   "cell_type": "code",
   "execution_count": 84,
   "id": "ff9ff7c1",
   "metadata": {},
   "outputs": [],
   "source": [
    "nres.insert(4, 'barat')"
   ]
  },
  {
   "cell_type": "code",
   "execution_count": 150,
   "id": "7e3ac137",
   "metadata": {},
   "outputs": [],
   "source": [
    "nres.insert(3, 'korea')"
   ]
  },
  {
   "cell_type": "markdown",
   "id": "83f3a0e3",
   "metadata": {},
   "source": [
    "## dictionary"
   ]
  },
  {
   "cell_type": "code",
   "execution_count": 151,
   "id": "a723c593",
   "metadata": {},
   "outputs": [
    {
     "data": {
      "text/plain": [
       "['jepang', 'indo', 'india', 'korea', 'barat']"
      ]
     },
     "execution_count": 151,
     "metadata": {},
     "output_type": "execute_result"
    }
   ],
   "source": [
    "nres"
   ]
  },
  {
   "cell_type": "code",
   "execution_count": 152,
   "id": "70a05ba8",
   "metadata": {},
   "outputs": [],
   "source": [
    "del nres"
   ]
  },
  {
   "cell_type": "code",
   "execution_count": 158,
   "id": "2ca45061",
   "metadata": {},
   "outputs": [],
   "source": [
    "pilihan={\"resto\":['jepang', 'korea', 'barat'],\n",
    "     \"pengunjung\":['lokal', 'interlokal']}"
   ]
  },
  {
   "cell_type": "code",
   "execution_count": 159,
   "id": "24843f27",
   "metadata": {},
   "outputs": [
    {
     "data": {
      "text/plain": [
       "2"
      ]
     },
     "execution_count": 159,
     "metadata": {},
     "output_type": "execute_result"
    }
   ],
   "source": [
    "len(pilihan)"
   ]
  },
  {
   "cell_type": "code",
   "execution_count": 160,
   "id": "e7e82c67",
   "metadata": {},
   "outputs": [],
   "source": [
    "del pilihan"
   ]
  },
  {
   "cell_type": "code",
   "execution_count": 162,
   "id": "6984d240",
   "metadata": {},
   "outputs": [],
   "source": [
    "pilih={'resto':['jepang', 'korea', 'india', 'indonesia'],\n",
    "      'peminat':['lokal', 'interlokal'],\n",
    "      'investor':['coorporate', 'startup']}"
   ]
  },
  {
   "cell_type": "code",
   "execution_count": 163,
   "id": "0f78742a",
   "metadata": {},
   "outputs": [
    {
     "data": {
      "text/plain": [
       "'india'"
      ]
     },
     "execution_count": 163,
     "metadata": {},
     "output_type": "execute_result"
    }
   ],
   "source": [
    "pilih['resto'][2]"
   ]
  },
  {
   "cell_type": "code",
   "execution_count": 164,
   "id": "adef8f44",
   "metadata": {},
   "outputs": [
    {
     "data": {
      "text/plain": [
       "{'resto': ['jepang', 'korea', 'india', 'indonesia'],\n",
       " 'peminat': ['lokal', 'interlokal'],\n",
       " 'investor': ['coorporate', 'startup']}"
      ]
     },
     "execution_count": 164,
     "metadata": {},
     "output_type": "execute_result"
    }
   ],
   "source": [
    "pilih"
   ]
  },
  {
   "cell_type": "code",
   "execution_count": 167,
   "id": "01d2108a",
   "metadata": {},
   "outputs": [
    {
     "data": {
      "text/plain": [
       "('korea', 'investor')"
      ]
     },
     "execution_count": 167,
     "metadata": {},
     "output_type": "execute_result"
    }
   ],
   "source": [
    "pilih['resto'][1], ['investor'][0]"
   ]
  },
  {
   "cell_type": "code",
   "execution_count": 175,
   "id": "17bd298d",
   "metadata": {},
   "outputs": [
    {
     "data": {
      "text/plain": [
       "'interlokal'"
      ]
     },
     "execution_count": 175,
     "metadata": {},
     "output_type": "execute_result"
    }
   ],
   "source": [
    "pilih['peminat'][1]"
   ]
  },
  {
   "cell_type": "code",
   "execution_count": 177,
   "id": "6a2673d6",
   "metadata": {},
   "outputs": [
    {
     "data": {
      "text/plain": [
       "(['jepang', 'korea', 'india', 'indonesia'], ['peminat'])"
      ]
     },
     "execution_count": 177,
     "metadata": {},
     "output_type": "execute_result"
    }
   ],
   "source": [
    "pilih['resto'], ['peminat']"
   ]
  },
  {
   "cell_type": "code",
   "execution_count": 5,
   "id": "1d5d56d8",
   "metadata": {},
   "outputs": [],
   "source": [
    "pilih=('kamu','aku','dia')"
   ]
  },
  {
   "cell_type": "code",
   "execution_count": 6,
   "id": "a0988638",
   "metadata": {},
   "outputs": [
    {
     "data": {
      "text/plain": [
       "tuple"
      ]
     },
     "execution_count": 6,
     "metadata": {},
     "output_type": "execute_result"
    }
   ],
   "source": [
    "type(pilih)"
   ]
  },
  {
   "cell_type": "code",
   "execution_count": 7,
   "id": "dd534fc1",
   "metadata": {},
   "outputs": [],
   "source": [
    "del pilih"
   ]
  },
  {
   "cell_type": "code",
   "execution_count": 8,
   "id": "1f01301f",
   "metadata": {},
   "outputs": [],
   "source": [
    "pilih=(['aku', 'kamu', 'dia'])"
   ]
  },
  {
   "cell_type": "code",
   "execution_count": 12,
   "id": "dcf29d65",
   "metadata": {},
   "outputs": [
    {
     "data": {
      "text/plain": [
       "list"
      ]
     },
     "execution_count": 12,
     "metadata": {},
     "output_type": "execute_result"
    }
   ],
   "source": [
    "type(pilih)"
   ]
  },
  {
   "cell_type": "code",
   "execution_count": 13,
   "id": "10f93472",
   "metadata": {},
   "outputs": [],
   "source": [
    "del pilih"
   ]
  },
  {
   "cell_type": "code",
   "execution_count": 16,
   "id": "7f4d15c5",
   "metadata": {},
   "outputs": [],
   "source": [
    "perpus={'buku':['gambar','novel','tulis']}"
   ]
  },
  {
   "cell_type": "code",
   "execution_count": 17,
   "id": "b54b2b01",
   "metadata": {},
   "outputs": [
    {
     "data": {
      "text/plain": [
       "1"
      ]
     },
     "execution_count": 17,
     "metadata": {},
     "output_type": "execute_result"
    }
   ],
   "source": [
    "len(perpus)"
   ]
  },
  {
   "cell_type": "code",
   "execution_count": 18,
   "id": "7d5d3fbb",
   "metadata": {},
   "outputs": [],
   "source": [
    "perpus={'alat tulis':['pulpen','pensil','penghapus']}"
   ]
  },
  {
   "cell_type": "code",
   "execution_count": 19,
   "id": "308ab806",
   "metadata": {},
   "outputs": [
    {
     "ename": "NameError",
     "evalue": "name 'pilih' is not defined",
     "output_type": "error",
     "traceback": [
      "\u001b[1;31m---------------------------------------------------------------------------\u001b[0m",
      "\u001b[1;31mNameError\u001b[0m                                 Traceback (most recent call last)",
      "\u001b[1;32m~\\AppData\\Local\\Temp\\ipykernel_13616\\2245117616.py\u001b[0m in \u001b[0;36m<module>\u001b[1;34m\u001b[0m\n\u001b[1;32m----> 1\u001b[1;33m \u001b[0mpilih\u001b[0m\u001b[1;33m\u001b[0m\u001b[1;33m\u001b[0m\u001b[0m\n\u001b[0m",
      "\u001b[1;31mNameError\u001b[0m: name 'pilih' is not defined"
     ]
    }
   ],
   "source": [
    "pilih"
   ]
  },
  {
   "cell_type": "code",
   "execution_count": 20,
   "id": "393845e6",
   "metadata": {},
   "outputs": [
    {
     "data": {
      "text/plain": [
       "{'alat tulis': ['pulpen', 'pensil', 'penghapus']}"
      ]
     },
     "execution_count": 20,
     "metadata": {},
     "output_type": "execute_result"
    }
   ],
   "source": [
    "perpus"
   ]
  },
  {
   "cell_type": "code",
   "execution_count": 21,
   "id": "51f64ea2",
   "metadata": {},
   "outputs": [],
   "source": [
    "perpus['buku']='novel','gambar','tulis'"
   ]
  },
  {
   "cell_type": "code",
   "execution_count": 22,
   "id": "daa3753e",
   "metadata": {},
   "outputs": [
    {
     "data": {
      "text/plain": [
       "{'alat tulis': ['pulpen', 'pensil', 'penghapus'],\n",
       " 'buku': ('novel', 'gambar', 'tulis')}"
      ]
     },
     "execution_count": 22,
     "metadata": {},
     "output_type": "execute_result"
    }
   ],
   "source": [
    "perpus"
   ]
  },
  {
   "cell_type": "code",
   "execution_count": 23,
   "id": "535aede3",
   "metadata": {},
   "outputs": [
    {
     "ename": "AttributeError",
     "evalue": "'tuple' object has no attribute 'remove'",
     "output_type": "error",
     "traceback": [
      "\u001b[1;31m---------------------------------------------------------------------------\u001b[0m",
      "\u001b[1;31mAttributeError\u001b[0m                            Traceback (most recent call last)",
      "\u001b[1;32m~\\AppData\\Local\\Temp\\ipykernel_13616\\1009523941.py\u001b[0m in \u001b[0;36m<module>\u001b[1;34m\u001b[0m\n\u001b[1;32m----> 1\u001b[1;33m \u001b[0mperpus\u001b[0m\u001b[1;33m[\u001b[0m\u001b[1;34m'buku'\u001b[0m\u001b[1;33m]\u001b[0m\u001b[1;33m.\u001b[0m\u001b[0mremove\u001b[0m\u001b[1;33m(\u001b[0m\u001b[0mperpus\u001b[0m\u001b[1;33m[\u001b[0m\u001b[1;34m'buku'\u001b[0m\u001b[1;33m]\u001b[0m\u001b[1;33m)\u001b[0m\u001b[1;33m\u001b[0m\u001b[1;33m\u001b[0m\u001b[0m\n\u001b[0m",
      "\u001b[1;31mAttributeError\u001b[0m: 'tuple' object has no attribute 'remove'"
     ]
    }
   ],
   "source": [
    "perpus['buku'].remove(perpus['buku'])"
   ]
  },
  {
   "cell_type": "code",
   "execution_count": 24,
   "id": "5a4e07d9",
   "metadata": {},
   "outputs": [],
   "source": [
    "del perpus"
   ]
  },
  {
   "cell_type": "code",
   "execution_count": 26,
   "id": "3a4bad4b",
   "metadata": {},
   "outputs": [],
   "source": [
    "perpus={'alat tulis':['pulpen','pensil','spidol']}"
   ]
  },
  {
   "cell_type": "code",
   "execution_count": 27,
   "id": "242ff60d",
   "metadata": {},
   "outputs": [
    {
     "data": {
      "text/plain": [
       "dict"
      ]
     },
     "execution_count": 27,
     "metadata": {},
     "output_type": "execute_result"
    }
   ],
   "source": [
    "type(perpus)"
   ]
  },
  {
   "cell_type": "code",
   "execution_count": 29,
   "id": "c2a2a0f0",
   "metadata": {},
   "outputs": [],
   "source": [
    "perpus['buku']=['gambar', 'novel', 'tulis']"
   ]
  },
  {
   "cell_type": "code",
   "execution_count": 31,
   "id": "358008d1",
   "metadata": {},
   "outputs": [
    {
     "data": {
      "text/plain": [
       "dict"
      ]
     },
     "execution_count": 31,
     "metadata": {},
     "output_type": "execute_result"
    }
   ],
   "source": [
    "type(perpus)"
   ]
  },
  {
   "cell_type": "code",
   "execution_count": 32,
   "id": "84771614",
   "metadata": {},
   "outputs": [
    {
     "data": {
      "text/plain": [
       "{'alat tulis': ['pulpen', 'pensil', 'spidol'],\n",
       " 'buku': ['gambar', 'novel', 'tulis']}"
      ]
     },
     "execution_count": 32,
     "metadata": {},
     "output_type": "execute_result"
    }
   ],
   "source": [
    "perpus"
   ]
  },
  {
   "cell_type": "code",
   "execution_count": 33,
   "id": "91d57623",
   "metadata": {},
   "outputs": [],
   "source": [
    "perpus[1, 'harga alat tulis']=['2000','2500','3000']"
   ]
  },
  {
   "cell_type": "code",
   "execution_count": 34,
   "id": "49c2d364",
   "metadata": {},
   "outputs": [
    {
     "data": {
      "text/plain": [
       "{'alat tulis': ['pulpen', 'pensil', 'spidol'],\n",
       " 'buku': ['gambar', 'novel', 'tulis'],\n",
       " (1, 'harga alat tulis'): ['2000', '2500', '3000']}"
      ]
     },
     "execution_count": 34,
     "metadata": {},
     "output_type": "execute_result"
    }
   ],
   "source": [
    "perpus"
   ]
  },
  {
   "cell_type": "code",
   "execution_count": null,
   "id": "5d691b5f",
   "metadata": {},
   "outputs": [],
   "source": []
  }
 ],
 "metadata": {
  "kernelspec": {
   "display_name": "Python 3 (ipykernel)",
   "language": "python",
   "name": "python3"
  },
  "language_info": {
   "codemirror_mode": {
    "name": "ipython",
    "version": 3
   },
   "file_extension": ".py",
   "mimetype": "text/x-python",
   "name": "python",
   "nbconvert_exporter": "python",
   "pygments_lexer": "ipython3",
   "version": "3.9.13"
  }
 },
 "nbformat": 4,
 "nbformat_minor": 5
}
